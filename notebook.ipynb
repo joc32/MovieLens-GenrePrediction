{
  "nbformat": 4,
  "nbformat_minor": 5,
  "metadata": {
    "kernelspec": {
      "display_name": "Python 3",
      "language": "python",
      "name": "python3"
    },
    "language_info": {
      "codemirror_mode": {
        "name": "ipython",
        "version": 3
      },
      "file_extension": ".py",
      "mimetype": "text/x-python",
      "name": "python",
      "nbconvert_exporter": "python",
      "pygments_lexer": "ipython3",
      "version": "3.9.1"
    },
    "colab": {
      "name": "TrueLayer.ipynb",
      "provenance": [],
      "collapsed_sections": []
    },
    "accelerator": "GPU",
    "widgets": {
      "application/vnd.jupyter.widget-state+json": {
        "339ad3fd558e48dda564b9d28ea36f86": {
          "model_module": "@jupyter-widgets/controls",
          "model_name": "HBoxModel",
          "state": {
            "_view_name": "HBoxView",
            "_dom_classes": [],
            "_model_name": "HBoxModel",
            "_view_module": "@jupyter-widgets/controls",
            "_model_module_version": "1.5.0",
            "_view_count": null,
            "_view_module_version": "1.5.0",
            "box_style": "",
            "layout": "IPY_MODEL_b5f84e598243477fa2580c1ae3f7c809",
            "_model_module": "@jupyter-widgets/controls",
            "children": [
              "IPY_MODEL_cc9cd48b7b5f457d947e498b664058cb",
              "IPY_MODEL_96f60d30ed4d4bb3a131be30851e88e7"
            ]
          }
        },
        "b5f84e598243477fa2580c1ae3f7c809": {
          "model_module": "@jupyter-widgets/base",
          "model_name": "LayoutModel",
          "state": {
            "_view_name": "LayoutView",
            "grid_template_rows": null,
            "right": null,
            "justify_content": null,
            "_view_module": "@jupyter-widgets/base",
            "overflow": null,
            "_model_module_version": "1.2.0",
            "_view_count": null,
            "flex_flow": null,
            "width": null,
            "min_width": null,
            "border": null,
            "align_items": null,
            "bottom": null,
            "_model_module": "@jupyter-widgets/base",
            "top": null,
            "grid_column": null,
            "overflow_y": null,
            "overflow_x": null,
            "grid_auto_flow": null,
            "grid_area": null,
            "grid_template_columns": null,
            "flex": null,
            "_model_name": "LayoutModel",
            "justify_items": null,
            "grid_row": null,
            "max_height": null,
            "align_content": null,
            "visibility": null,
            "align_self": null,
            "height": null,
            "min_height": null,
            "padding": null,
            "grid_auto_rows": null,
            "grid_gap": null,
            "max_width": null,
            "order": null,
            "_view_module_version": "1.2.0",
            "grid_template_areas": null,
            "object_position": null,
            "object_fit": null,
            "grid_auto_columns": null,
            "margin": null,
            "display": null,
            "left": null
          }
        },
        "cc9cd48b7b5f457d947e498b664058cb": {
          "model_module": "@jupyter-widgets/controls",
          "model_name": "FloatProgressModel",
          "state": {
            "_view_name": "ProgressView",
            "style": "IPY_MODEL_133737430fc4434294401c4fa9d9e9da",
            "_dom_classes": [],
            "description": "Downloading: 100%",
            "_model_name": "FloatProgressModel",
            "bar_style": "success",
            "max": 231508,
            "_view_module": "@jupyter-widgets/controls",
            "_model_module_version": "1.5.0",
            "value": 231508,
            "_view_count": null,
            "_view_module_version": "1.5.0",
            "orientation": "horizontal",
            "min": 0,
            "description_tooltip": null,
            "_model_module": "@jupyter-widgets/controls",
            "layout": "IPY_MODEL_7e3a620a1d2e47ae8a051f2856829e05"
          }
        },
        "96f60d30ed4d4bb3a131be30851e88e7": {
          "model_module": "@jupyter-widgets/controls",
          "model_name": "HTMLModel",
          "state": {
            "_view_name": "HTMLView",
            "style": "IPY_MODEL_3f8dea8f066c48c9b29d361a8becc094",
            "_dom_classes": [],
            "description": "",
            "_model_name": "HTMLModel",
            "placeholder": "​",
            "_view_module": "@jupyter-widgets/controls",
            "_model_module_version": "1.5.0",
            "value": " 232k/232k [00:00&lt;00:00, 648kB/s]",
            "_view_count": null,
            "_view_module_version": "1.5.0",
            "description_tooltip": null,
            "_model_module": "@jupyter-widgets/controls",
            "layout": "IPY_MODEL_fdfa0f3509e34829a379abfea9fb6022"
          }
        },
        "133737430fc4434294401c4fa9d9e9da": {
          "model_module": "@jupyter-widgets/controls",
          "model_name": "ProgressStyleModel",
          "state": {
            "_view_name": "StyleView",
            "_model_name": "ProgressStyleModel",
            "description_width": "initial",
            "_view_module": "@jupyter-widgets/base",
            "_model_module_version": "1.5.0",
            "_view_count": null,
            "_view_module_version": "1.2.0",
            "bar_color": null,
            "_model_module": "@jupyter-widgets/controls"
          }
        },
        "7e3a620a1d2e47ae8a051f2856829e05": {
          "model_module": "@jupyter-widgets/base",
          "model_name": "LayoutModel",
          "state": {
            "_view_name": "LayoutView",
            "grid_template_rows": null,
            "right": null,
            "justify_content": null,
            "_view_module": "@jupyter-widgets/base",
            "overflow": null,
            "_model_module_version": "1.2.0",
            "_view_count": null,
            "flex_flow": null,
            "width": null,
            "min_width": null,
            "border": null,
            "align_items": null,
            "bottom": null,
            "_model_module": "@jupyter-widgets/base",
            "top": null,
            "grid_column": null,
            "overflow_y": null,
            "overflow_x": null,
            "grid_auto_flow": null,
            "grid_area": null,
            "grid_template_columns": null,
            "flex": null,
            "_model_name": "LayoutModel",
            "justify_items": null,
            "grid_row": null,
            "max_height": null,
            "align_content": null,
            "visibility": null,
            "align_self": null,
            "height": null,
            "min_height": null,
            "padding": null,
            "grid_auto_rows": null,
            "grid_gap": null,
            "max_width": null,
            "order": null,
            "_view_module_version": "1.2.0",
            "grid_template_areas": null,
            "object_position": null,
            "object_fit": null,
            "grid_auto_columns": null,
            "margin": null,
            "display": null,
            "left": null
          }
        },
        "3f8dea8f066c48c9b29d361a8becc094": {
          "model_module": "@jupyter-widgets/controls",
          "model_name": "DescriptionStyleModel",
          "state": {
            "_view_name": "StyleView",
            "_model_name": "DescriptionStyleModel",
            "description_width": "",
            "_view_module": "@jupyter-widgets/base",
            "_model_module_version": "1.5.0",
            "_view_count": null,
            "_view_module_version": "1.2.0",
            "_model_module": "@jupyter-widgets/controls"
          }
        },
        "fdfa0f3509e34829a379abfea9fb6022": {
          "model_module": "@jupyter-widgets/base",
          "model_name": "LayoutModel",
          "state": {
            "_view_name": "LayoutView",
            "grid_template_rows": null,
            "right": null,
            "justify_content": null,
            "_view_module": "@jupyter-widgets/base",
            "overflow": null,
            "_model_module_version": "1.2.0",
            "_view_count": null,
            "flex_flow": null,
            "width": null,
            "min_width": null,
            "border": null,
            "align_items": null,
            "bottom": null,
            "_model_module": "@jupyter-widgets/base",
            "top": null,
            "grid_column": null,
            "overflow_y": null,
            "overflow_x": null,
            "grid_auto_flow": null,
            "grid_area": null,
            "grid_template_columns": null,
            "flex": null,
            "_model_name": "LayoutModel",
            "justify_items": null,
            "grid_row": null,
            "max_height": null,
            "align_content": null,
            "visibility": null,
            "align_self": null,
            "height": null,
            "min_height": null,
            "padding": null,
            "grid_auto_rows": null,
            "grid_gap": null,
            "max_width": null,
            "order": null,
            "_view_module_version": "1.2.0",
            "grid_template_areas": null,
            "object_position": null,
            "object_fit": null,
            "grid_auto_columns": null,
            "margin": null,
            "display": null,
            "left": null
          }
        },
        "03e7d5006ad441cd92877ecfcdcab760": {
          "model_module": "@jupyter-widgets/controls",
          "model_name": "HBoxModel",
          "state": {
            "_view_name": "HBoxView",
            "_dom_classes": [],
            "_model_name": "HBoxModel",
            "_view_module": "@jupyter-widgets/controls",
            "_model_module_version": "1.5.0",
            "_view_count": null,
            "_view_module_version": "1.5.0",
            "box_style": "",
            "layout": "IPY_MODEL_f701383893e1499fb5c254d7c1fefbda",
            "_model_module": "@jupyter-widgets/controls",
            "children": [
              "IPY_MODEL_dd085a0c80834a13bf6f17ddb6a5bfb7",
              "IPY_MODEL_4dc6d29a862944f7bce1e729e4a26e25"
            ]
          }
        },
        "f701383893e1499fb5c254d7c1fefbda": {
          "model_module": "@jupyter-widgets/base",
          "model_name": "LayoutModel",
          "state": {
            "_view_name": "LayoutView",
            "grid_template_rows": null,
            "right": null,
            "justify_content": null,
            "_view_module": "@jupyter-widgets/base",
            "overflow": null,
            "_model_module_version": "1.2.0",
            "_view_count": null,
            "flex_flow": null,
            "width": null,
            "min_width": null,
            "border": null,
            "align_items": null,
            "bottom": null,
            "_model_module": "@jupyter-widgets/base",
            "top": null,
            "grid_column": null,
            "overflow_y": null,
            "overflow_x": null,
            "grid_auto_flow": null,
            "grid_area": null,
            "grid_template_columns": null,
            "flex": null,
            "_model_name": "LayoutModel",
            "justify_items": null,
            "grid_row": null,
            "max_height": null,
            "align_content": null,
            "visibility": null,
            "align_self": null,
            "height": null,
            "min_height": null,
            "padding": null,
            "grid_auto_rows": null,
            "grid_gap": null,
            "max_width": null,
            "order": null,
            "_view_module_version": "1.2.0",
            "grid_template_areas": null,
            "object_position": null,
            "object_fit": null,
            "grid_auto_columns": null,
            "margin": null,
            "display": null,
            "left": null
          }
        },
        "dd085a0c80834a13bf6f17ddb6a5bfb7": {
          "model_module": "@jupyter-widgets/controls",
          "model_name": "FloatProgressModel",
          "state": {
            "_view_name": "ProgressView",
            "style": "IPY_MODEL_67bafd2537894d58a9d122f3826a10ad",
            "_dom_classes": [],
            "description": "Downloading: 100%",
            "_model_name": "FloatProgressModel",
            "bar_style": "success",
            "max": 28,
            "_view_module": "@jupyter-widgets/controls",
            "_model_module_version": "1.5.0",
            "value": 28,
            "_view_count": null,
            "_view_module_version": "1.5.0",
            "orientation": "horizontal",
            "min": 0,
            "description_tooltip": null,
            "_model_module": "@jupyter-widgets/controls",
            "layout": "IPY_MODEL_1917c2edab61401caffa87ef98550476"
          }
        },
        "4dc6d29a862944f7bce1e729e4a26e25": {
          "model_module": "@jupyter-widgets/controls",
          "model_name": "HTMLModel",
          "state": {
            "_view_name": "HTMLView",
            "style": "IPY_MODEL_d437dcbd50dc405f8abdb121d9de4648",
            "_dom_classes": [],
            "description": "",
            "_model_name": "HTMLModel",
            "placeholder": "​",
            "_view_module": "@jupyter-widgets/controls",
            "_model_module_version": "1.5.0",
            "value": " 28.0/28.0 [00:00&lt;00:00, 236B/s]",
            "_view_count": null,
            "_view_module_version": "1.5.0",
            "description_tooltip": null,
            "_model_module": "@jupyter-widgets/controls",
            "layout": "IPY_MODEL_3266e52522ba4daf9af7c98af098e60b"
          }
        },
        "67bafd2537894d58a9d122f3826a10ad": {
          "model_module": "@jupyter-widgets/controls",
          "model_name": "ProgressStyleModel",
          "state": {
            "_view_name": "StyleView",
            "_model_name": "ProgressStyleModel",
            "description_width": "initial",
            "_view_module": "@jupyter-widgets/base",
            "_model_module_version": "1.5.0",
            "_view_count": null,
            "_view_module_version": "1.2.0",
            "bar_color": null,
            "_model_module": "@jupyter-widgets/controls"
          }
        },
        "1917c2edab61401caffa87ef98550476": {
          "model_module": "@jupyter-widgets/base",
          "model_name": "LayoutModel",
          "state": {
            "_view_name": "LayoutView",
            "grid_template_rows": null,
            "right": null,
            "justify_content": null,
            "_view_module": "@jupyter-widgets/base",
            "overflow": null,
            "_model_module_version": "1.2.0",
            "_view_count": null,
            "flex_flow": null,
            "width": null,
            "min_width": null,
            "border": null,
            "align_items": null,
            "bottom": null,
            "_model_module": "@jupyter-widgets/base",
            "top": null,
            "grid_column": null,
            "overflow_y": null,
            "overflow_x": null,
            "grid_auto_flow": null,
            "grid_area": null,
            "grid_template_columns": null,
            "flex": null,
            "_model_name": "LayoutModel",
            "justify_items": null,
            "grid_row": null,
            "max_height": null,
            "align_content": null,
            "visibility": null,
            "align_self": null,
            "height": null,
            "min_height": null,
            "padding": null,
            "grid_auto_rows": null,
            "grid_gap": null,
            "max_width": null,
            "order": null,
            "_view_module_version": "1.2.0",
            "grid_template_areas": null,
            "object_position": null,
            "object_fit": null,
            "grid_auto_columns": null,
            "margin": null,
            "display": null,
            "left": null
          }
        },
        "d437dcbd50dc405f8abdb121d9de4648": {
          "model_module": "@jupyter-widgets/controls",
          "model_name": "DescriptionStyleModel",
          "state": {
            "_view_name": "StyleView",
            "_model_name": "DescriptionStyleModel",
            "description_width": "",
            "_view_module": "@jupyter-widgets/base",
            "_model_module_version": "1.5.0",
            "_view_count": null,
            "_view_module_version": "1.2.0",
            "_model_module": "@jupyter-widgets/controls"
          }
        },
        "3266e52522ba4daf9af7c98af098e60b": {
          "model_module": "@jupyter-widgets/base",
          "model_name": "LayoutModel",
          "state": {
            "_view_name": "LayoutView",
            "grid_template_rows": null,
            "right": null,
            "justify_content": null,
            "_view_module": "@jupyter-widgets/base",
            "overflow": null,
            "_model_module_version": "1.2.0",
            "_view_count": null,
            "flex_flow": null,
            "width": null,
            "min_width": null,
            "border": null,
            "align_items": null,
            "bottom": null,
            "_model_module": "@jupyter-widgets/base",
            "top": null,
            "grid_column": null,
            "overflow_y": null,
            "overflow_x": null,
            "grid_auto_flow": null,
            "grid_area": null,
            "grid_template_columns": null,
            "flex": null,
            "_model_name": "LayoutModel",
            "justify_items": null,
            "grid_row": null,
            "max_height": null,
            "align_content": null,
            "visibility": null,
            "align_self": null,
            "height": null,
            "min_height": null,
            "padding": null,
            "grid_auto_rows": null,
            "grid_gap": null,
            "max_width": null,
            "order": null,
            "_view_module_version": "1.2.0",
            "grid_template_areas": null,
            "object_position": null,
            "object_fit": null,
            "grid_auto_columns": null,
            "margin": null,
            "display": null,
            "left": null
          }
        },
        "9bda49a79b4e4a6abb7b3274836160d2": {
          "model_module": "@jupyter-widgets/controls",
          "model_name": "HBoxModel",
          "state": {
            "_view_name": "HBoxView",
            "_dom_classes": [],
            "_model_name": "HBoxModel",
            "_view_module": "@jupyter-widgets/controls",
            "_model_module_version": "1.5.0",
            "_view_count": null,
            "_view_module_version": "1.5.0",
            "box_style": "",
            "layout": "IPY_MODEL_8500dda4d7bd4c35ace392f90afef566",
            "_model_module": "@jupyter-widgets/controls",
            "children": [
              "IPY_MODEL_d141e239e82644888b54fb0b22f287b8",
              "IPY_MODEL_d9eec53b19ce48a195598ed636e44ef5"
            ]
          }
        },
        "8500dda4d7bd4c35ace392f90afef566": {
          "model_module": "@jupyter-widgets/base",
          "model_name": "LayoutModel",
          "state": {
            "_view_name": "LayoutView",
            "grid_template_rows": null,
            "right": null,
            "justify_content": null,
            "_view_module": "@jupyter-widgets/base",
            "overflow": null,
            "_model_module_version": "1.2.0",
            "_view_count": null,
            "flex_flow": null,
            "width": null,
            "min_width": null,
            "border": null,
            "align_items": null,
            "bottom": null,
            "_model_module": "@jupyter-widgets/base",
            "top": null,
            "grid_column": null,
            "overflow_y": null,
            "overflow_x": null,
            "grid_auto_flow": null,
            "grid_area": null,
            "grid_template_columns": null,
            "flex": null,
            "_model_name": "LayoutModel",
            "justify_items": null,
            "grid_row": null,
            "max_height": null,
            "align_content": null,
            "visibility": null,
            "align_self": null,
            "height": null,
            "min_height": null,
            "padding": null,
            "grid_auto_rows": null,
            "grid_gap": null,
            "max_width": null,
            "order": null,
            "_view_module_version": "1.2.0",
            "grid_template_areas": null,
            "object_position": null,
            "object_fit": null,
            "grid_auto_columns": null,
            "margin": null,
            "display": null,
            "left": null
          }
        },
        "d141e239e82644888b54fb0b22f287b8": {
          "model_module": "@jupyter-widgets/controls",
          "model_name": "FloatProgressModel",
          "state": {
            "_view_name": "ProgressView",
            "style": "IPY_MODEL_898887baf71149738e7fa57ceb4deefe",
            "_dom_classes": [],
            "description": "Downloading: 100%",
            "_model_name": "FloatProgressModel",
            "bar_style": "success",
            "max": 466062,
            "_view_module": "@jupyter-widgets/controls",
            "_model_module_version": "1.5.0",
            "value": 466062,
            "_view_count": null,
            "_view_module_version": "1.5.0",
            "orientation": "horizontal",
            "min": 0,
            "description_tooltip": null,
            "_model_module": "@jupyter-widgets/controls",
            "layout": "IPY_MODEL_0a304b32ba3d4b53a300959459ff405d"
          }
        },
        "d9eec53b19ce48a195598ed636e44ef5": {
          "model_module": "@jupyter-widgets/controls",
          "model_name": "HTMLModel",
          "state": {
            "_view_name": "HTMLView",
            "style": "IPY_MODEL_91ae6be6d7b1431a99eb2f100bfd384b",
            "_dom_classes": [],
            "description": "",
            "_model_name": "HTMLModel",
            "placeholder": "​",
            "_view_module": "@jupyter-widgets/controls",
            "_model_module_version": "1.5.0",
            "value": " 466k/466k [00:00&lt;00:00, 4.73MB/s]",
            "_view_count": null,
            "_view_module_version": "1.5.0",
            "description_tooltip": null,
            "_model_module": "@jupyter-widgets/controls",
            "layout": "IPY_MODEL_757a8c75c6a84247a1c4518fa5b0b405"
          }
        },
        "898887baf71149738e7fa57ceb4deefe": {
          "model_module": "@jupyter-widgets/controls",
          "model_name": "ProgressStyleModel",
          "state": {
            "_view_name": "StyleView",
            "_model_name": "ProgressStyleModel",
            "description_width": "initial",
            "_view_module": "@jupyter-widgets/base",
            "_model_module_version": "1.5.0",
            "_view_count": null,
            "_view_module_version": "1.2.0",
            "bar_color": null,
            "_model_module": "@jupyter-widgets/controls"
          }
        },
        "0a304b32ba3d4b53a300959459ff405d": {
          "model_module": "@jupyter-widgets/base",
          "model_name": "LayoutModel",
          "state": {
            "_view_name": "LayoutView",
            "grid_template_rows": null,
            "right": null,
            "justify_content": null,
            "_view_module": "@jupyter-widgets/base",
            "overflow": null,
            "_model_module_version": "1.2.0",
            "_view_count": null,
            "flex_flow": null,
            "width": null,
            "min_width": null,
            "border": null,
            "align_items": null,
            "bottom": null,
            "_model_module": "@jupyter-widgets/base",
            "top": null,
            "grid_column": null,
            "overflow_y": null,
            "overflow_x": null,
            "grid_auto_flow": null,
            "grid_area": null,
            "grid_template_columns": null,
            "flex": null,
            "_model_name": "LayoutModel",
            "justify_items": null,
            "grid_row": null,
            "max_height": null,
            "align_content": null,
            "visibility": null,
            "align_self": null,
            "height": null,
            "min_height": null,
            "padding": null,
            "grid_auto_rows": null,
            "grid_gap": null,
            "max_width": null,
            "order": null,
            "_view_module_version": "1.2.0",
            "grid_template_areas": null,
            "object_position": null,
            "object_fit": null,
            "grid_auto_columns": null,
            "margin": null,
            "display": null,
            "left": null
          }
        },
        "91ae6be6d7b1431a99eb2f100bfd384b": {
          "model_module": "@jupyter-widgets/controls",
          "model_name": "DescriptionStyleModel",
          "state": {
            "_view_name": "StyleView",
            "_model_name": "DescriptionStyleModel",
            "description_width": "",
            "_view_module": "@jupyter-widgets/base",
            "_model_module_version": "1.5.0",
            "_view_count": null,
            "_view_module_version": "1.2.0",
            "_model_module": "@jupyter-widgets/controls"
          }
        },
        "757a8c75c6a84247a1c4518fa5b0b405": {
          "model_module": "@jupyter-widgets/base",
          "model_name": "LayoutModel",
          "state": {
            "_view_name": "LayoutView",
            "grid_template_rows": null,
            "right": null,
            "justify_content": null,
            "_view_module": "@jupyter-widgets/base",
            "overflow": null,
            "_model_module_version": "1.2.0",
            "_view_count": null,
            "flex_flow": null,
            "width": null,
            "min_width": null,
            "border": null,
            "align_items": null,
            "bottom": null,
            "_model_module": "@jupyter-widgets/base",
            "top": null,
            "grid_column": null,
            "overflow_y": null,
            "overflow_x": null,
            "grid_auto_flow": null,
            "grid_area": null,
            "grid_template_columns": null,
            "flex": null,
            "_model_name": "LayoutModel",
            "justify_items": null,
            "grid_row": null,
            "max_height": null,
            "align_content": null,
            "visibility": null,
            "align_self": null,
            "height": null,
            "min_height": null,
            "padding": null,
            "grid_auto_rows": null,
            "grid_gap": null,
            "max_width": null,
            "order": null,
            "_view_module_version": "1.2.0",
            "grid_template_areas": null,
            "object_position": null,
            "object_fit": null,
            "grid_auto_columns": null,
            "margin": null,
            "display": null,
            "left": null
          }
        }
      }
    }
  },
  "cells": [
    {
      "cell_type": "markdown",
      "metadata": {
        "id": "30816611"
      },
      "source": [
        "# Machine Learning Task Solution"
      ],
      "id": "30816611"
    },
    {
      "cell_type": "markdown",
      "metadata": {
        "id": "UCMKTTH9wbZE"
      },
      "source": [
        "### Import libraries"
      ],
      "id": "UCMKTTH9wbZE"
    },
    {
      "cell_type": "code",
      "metadata": {
        "id": "ce250c4a"
      },
      "source": [
        "import pandas as pd\n",
        "import matplotlib.pyplot as plt\n",
        "import numpy as np"
      ],
      "id": "ce250c4a",
      "execution_count": 2,
      "outputs": []
    },
    {
      "cell_type": "code",
      "metadata": {
        "id": "xleryYzcYhTu"
      },
      "source": [
        "# The dataset for this task is from https://www.kaggle.com/rounakbanik/the-movies-dataset/version/7?select=movies_metadata.csv"
      ],
      "id": "xleryYzcYhTu",
      "execution_count": null,
      "outputs": []
    },
    {
      "cell_type": "code",
      "metadata": {
        "colab": {
          "base_uri": "https://localhost:8080/"
        },
        "id": "NnhEXksrAmrX",
        "outputId": "806d0aba-4380-4cc3-b0d5-13dcc8b63f97"
      },
      "source": [
        "!unzip movies_metadata.csv.zip"
      ],
      "id": "NnhEXksrAmrX",
      "execution_count": 3,
      "outputs": [
        {
          "output_type": "stream",
          "text": [
            "Archive:  movies_metadata.csv.zip\n",
            "  inflating: movies_metadata.csv     \n"
          ],
          "name": "stdout"
        }
      ]
    },
    {
      "cell_type": "code",
      "metadata": {
        "id": "db690858"
      },
      "source": [
        "# Set some parameters for displaying the dataframes.\n",
        "plt.rcParams[\"figure.figsize\"] = (14,5)\n",
        "pd.set_option('display.max_rows', 700)\n",
        "pd.set_option('display.max_columns', 700)\n",
        "pd.set_option('display.width', 2000)"
      ],
      "id": "db690858",
      "execution_count": 4,
      "outputs": []
    },
    {
      "cell_type": "markdown",
      "metadata": {
        "id": "7fa7f22d"
      },
      "source": [
        "# Reading Data and Data Manipulation."
      ],
      "id": "7fa7f22d"
    },
    {
      "cell_type": "code",
      "execution_count": null,
      "metadata": {},
      "outputs": [],
      "source": [
        "!unzip movies_metadata.csv.zip"
      ]
    },
    {
      "cell_type": "code",
      "metadata": {
        "colab": {
          "base_uri": "https://localhost:8080/"
        },
        "id": "6fc38737",
        "outputId": "191650f8-5660-4861-9ffd-24058303e62b"
      },
      "source": [
        "df = pd.read_csv('./movies_metadata.csv')"
      ],
      "id": "6fc38737",
      "execution_count": 5,
      "outputs": [
        {
          "output_type": "stream",
          "text": [
            "/usr/local/lib/python3.7/dist-packages/IPython/core/interactiveshell.py:2718: DtypeWarning: Columns (10) have mixed types.Specify dtype option on import or set low_memory=False.\n",
            "  interactivity=interactivity, compiler=compiler, result=result)\n"
          ],
          "name": "stderr"
        }
      ]
    },
    {
      "cell_type": "code",
      "metadata": {
        "colab": {
          "base_uri": "https://localhost:8080/",
          "height": 427
        },
        "id": "Ld3XLo97wyvF",
        "outputId": "96aff80f-dc38-4e74-8668-a5c9e5648ae4"
      },
      "source": [
        "df.head(3)"
      ],
      "id": "Ld3XLo97wyvF",
      "execution_count": 6,
      "outputs": [
        {
          "output_type": "execute_result",
          "data": {
            "text/html": [
              "<div>\n",
              "<style scoped>\n",
              "    .dataframe tbody tr th:only-of-type {\n",
              "        vertical-align: middle;\n",
              "    }\n",
              "\n",
              "    .dataframe tbody tr th {\n",
              "        vertical-align: top;\n",
              "    }\n",
              "\n",
              "    .dataframe thead th {\n",
              "        text-align: right;\n",
              "    }\n",
              "</style>\n",
              "<table border=\"1\" class=\"dataframe\">\n",
              "  <thead>\n",
              "    <tr style=\"text-align: right;\">\n",
              "      <th></th>\n",
              "      <th>adult</th>\n",
              "      <th>belongs_to_collection</th>\n",
              "      <th>budget</th>\n",
              "      <th>genres</th>\n",
              "      <th>homepage</th>\n",
              "      <th>id</th>\n",
              "      <th>imdb_id</th>\n",
              "      <th>original_language</th>\n",
              "      <th>original_title</th>\n",
              "      <th>overview</th>\n",
              "      <th>popularity</th>\n",
              "      <th>poster_path</th>\n",
              "      <th>production_companies</th>\n",
              "      <th>production_countries</th>\n",
              "      <th>release_date</th>\n",
              "      <th>revenue</th>\n",
              "      <th>runtime</th>\n",
              "      <th>spoken_languages</th>\n",
              "      <th>status</th>\n",
              "      <th>tagline</th>\n",
              "      <th>title</th>\n",
              "      <th>video</th>\n",
              "      <th>vote_average</th>\n",
              "      <th>vote_count</th>\n",
              "    </tr>\n",
              "  </thead>\n",
              "  <tbody>\n",
              "    <tr>\n",
              "      <th>0</th>\n",
              "      <td>False</td>\n",
              "      <td>{'id': 10194, 'name': 'Toy Story Collection', ...</td>\n",
              "      <td>30000000</td>\n",
              "      <td>[{'id': 16, 'name': 'Animation'}, {'id': 35, '...</td>\n",
              "      <td>http://toystory.disney.com/toy-story</td>\n",
              "      <td>862</td>\n",
              "      <td>tt0114709</td>\n",
              "      <td>en</td>\n",
              "      <td>Toy Story</td>\n",
              "      <td>Led by Woody, Andy's toys live happily in his ...</td>\n",
              "      <td>21.9469</td>\n",
              "      <td>/rhIRbceoE9lR4veEXuwCC2wARtG.jpg</td>\n",
              "      <td>[{'name': 'Pixar Animation Studios', 'id': 3}]</td>\n",
              "      <td>[{'iso_3166_1': 'US', 'name': 'United States o...</td>\n",
              "      <td>1995-10-30</td>\n",
              "      <td>373554033.0</td>\n",
              "      <td>81.0</td>\n",
              "      <td>[{'iso_639_1': 'en', 'name': 'English'}]</td>\n",
              "      <td>Released</td>\n",
              "      <td>NaN</td>\n",
              "      <td>Toy Story</td>\n",
              "      <td>False</td>\n",
              "      <td>7.7</td>\n",
              "      <td>5415.0</td>\n",
              "    </tr>\n",
              "    <tr>\n",
              "      <th>1</th>\n",
              "      <td>False</td>\n",
              "      <td>NaN</td>\n",
              "      <td>65000000</td>\n",
              "      <td>[{'id': 12, 'name': 'Adventure'}, {'id': 14, '...</td>\n",
              "      <td>NaN</td>\n",
              "      <td>8844</td>\n",
              "      <td>tt0113497</td>\n",
              "      <td>en</td>\n",
              "      <td>Jumanji</td>\n",
              "      <td>When siblings Judy and Peter discover an encha...</td>\n",
              "      <td>17.0155</td>\n",
              "      <td>/vzmL6fP7aPKNKPRTFnZmiUfciyV.jpg</td>\n",
              "      <td>[{'name': 'TriStar Pictures', 'id': 559}, {'na...</td>\n",
              "      <td>[{'iso_3166_1': 'US', 'name': 'United States o...</td>\n",
              "      <td>1995-12-15</td>\n",
              "      <td>262797249.0</td>\n",
              "      <td>104.0</td>\n",
              "      <td>[{'iso_639_1': 'en', 'name': 'English'}, {'iso...</td>\n",
              "      <td>Released</td>\n",
              "      <td>Roll the dice and unleash the excitement!</td>\n",
              "      <td>Jumanji</td>\n",
              "      <td>False</td>\n",
              "      <td>6.9</td>\n",
              "      <td>2413.0</td>\n",
              "    </tr>\n",
              "    <tr>\n",
              "      <th>2</th>\n",
              "      <td>False</td>\n",
              "      <td>{'id': 119050, 'name': 'Grumpy Old Men Collect...</td>\n",
              "      <td>0</td>\n",
              "      <td>[{'id': 10749, 'name': 'Romance'}, {'id': 35, ...</td>\n",
              "      <td>NaN</td>\n",
              "      <td>15602</td>\n",
              "      <td>tt0113228</td>\n",
              "      <td>en</td>\n",
              "      <td>Grumpier Old Men</td>\n",
              "      <td>A family wedding reignites the ancient feud be...</td>\n",
              "      <td>11.7129</td>\n",
              "      <td>/6ksm1sjKMFLbO7UY2i6G1ju9SML.jpg</td>\n",
              "      <td>[{'name': 'Warner Bros.', 'id': 6194}, {'name'...</td>\n",
              "      <td>[{'iso_3166_1': 'US', 'name': 'United States o...</td>\n",
              "      <td>1995-12-22</td>\n",
              "      <td>0.0</td>\n",
              "      <td>101.0</td>\n",
              "      <td>[{'iso_639_1': 'en', 'name': 'English'}]</td>\n",
              "      <td>Released</td>\n",
              "      <td>Still Yelling. Still Fighting. Still Ready for...</td>\n",
              "      <td>Grumpier Old Men</td>\n",
              "      <td>False</td>\n",
              "      <td>6.5</td>\n",
              "      <td>92.0</td>\n",
              "    </tr>\n",
              "  </tbody>\n",
              "</table>\n",
              "</div>"
            ],
            "text/plain": [
              "   adult                              belongs_to_collection    budget                                             genres                              homepage     id    imdb_id original_language    original_title                                           overview popularity                       poster_path                               production_companies                               production_countries release_date      revenue  runtime                                   spoken_languages    status                                            tagline             title  video  vote_average  vote_count\n",
              "0  False  {'id': 10194, 'name': 'Toy Story Collection', ...  30000000  [{'id': 16, 'name': 'Animation'}, {'id': 35, '...  http://toystory.disney.com/toy-story    862  tt0114709                en         Toy Story  Led by Woody, Andy's toys live happily in his ...    21.9469  /rhIRbceoE9lR4veEXuwCC2wARtG.jpg     [{'name': 'Pixar Animation Studios', 'id': 3}]  [{'iso_3166_1': 'US', 'name': 'United States o...   1995-10-30  373554033.0     81.0           [{'iso_639_1': 'en', 'name': 'English'}]  Released                                                NaN         Toy Story  False           7.7      5415.0\n",
              "1  False                                                NaN  65000000  [{'id': 12, 'name': 'Adventure'}, {'id': 14, '...                                   NaN   8844  tt0113497                en           Jumanji  When siblings Judy and Peter discover an encha...    17.0155  /vzmL6fP7aPKNKPRTFnZmiUfciyV.jpg  [{'name': 'TriStar Pictures', 'id': 559}, {'na...  [{'iso_3166_1': 'US', 'name': 'United States o...   1995-12-15  262797249.0    104.0  [{'iso_639_1': 'en', 'name': 'English'}, {'iso...  Released          Roll the dice and unleash the excitement!           Jumanji  False           6.9      2413.0\n",
              "2  False  {'id': 119050, 'name': 'Grumpy Old Men Collect...         0  [{'id': 10749, 'name': 'Romance'}, {'id': 35, ...                                   NaN  15602  tt0113228                en  Grumpier Old Men  A family wedding reignites the ancient feud be...    11.7129  /6ksm1sjKMFLbO7UY2i6G1ju9SML.jpg  [{'name': 'Warner Bros.', 'id': 6194}, {'name'...  [{'iso_3166_1': 'US', 'name': 'United States o...   1995-12-22          0.0    101.0           [{'iso_639_1': 'en', 'name': 'English'}]  Released  Still Yelling. Still Fighting. Still Ready for...  Grumpier Old Men  False           6.5        92.0"
            ]
          },
          "metadata": {
            "tags": []
          },
          "execution_count": 6
        }
      ]
    },
    {
      "cell_type": "code",
      "metadata": {
        "id": "60dc4c04"
      },
      "source": [
        "# Extract only relevant columns as Overview and Title are the inputs to the model, and Genre being the output.\n",
        "df_subset = df[['genres','title','overview']]"
      ],
      "id": "60dc4c04",
      "execution_count": 7,
      "outputs": []
    },
    {
      "cell_type": "code",
      "metadata": {
        "colab": {
          "base_uri": "https://localhost:8080/",
          "height": 141
        },
        "id": "d9fb4a7f",
        "outputId": "42ec1083-f553-49ff-954e-dbadd1b002bd"
      },
      "source": [
        "#The genre column is in json format, the genres have to be somehow extracted.\n",
        "df_subset.head(3)"
      ],
      "id": "d9fb4a7f",
      "execution_count": 8,
      "outputs": [
        {
          "output_type": "execute_result",
          "data": {
            "text/html": [
              "<div>\n",
              "<style scoped>\n",
              "    .dataframe tbody tr th:only-of-type {\n",
              "        vertical-align: middle;\n",
              "    }\n",
              "\n",
              "    .dataframe tbody tr th {\n",
              "        vertical-align: top;\n",
              "    }\n",
              "\n",
              "    .dataframe thead th {\n",
              "        text-align: right;\n",
              "    }\n",
              "</style>\n",
              "<table border=\"1\" class=\"dataframe\">\n",
              "  <thead>\n",
              "    <tr style=\"text-align: right;\">\n",
              "      <th></th>\n",
              "      <th>genres</th>\n",
              "      <th>title</th>\n",
              "      <th>overview</th>\n",
              "    </tr>\n",
              "  </thead>\n",
              "  <tbody>\n",
              "    <tr>\n",
              "      <th>0</th>\n",
              "      <td>[{'id': 16, 'name': 'Animation'}, {'id': 35, '...</td>\n",
              "      <td>Toy Story</td>\n",
              "      <td>Led by Woody, Andy's toys live happily in his ...</td>\n",
              "    </tr>\n",
              "    <tr>\n",
              "      <th>1</th>\n",
              "      <td>[{'id': 12, 'name': 'Adventure'}, {'id': 14, '...</td>\n",
              "      <td>Jumanji</td>\n",
              "      <td>When siblings Judy and Peter discover an encha...</td>\n",
              "    </tr>\n",
              "    <tr>\n",
              "      <th>2</th>\n",
              "      <td>[{'id': 10749, 'name': 'Romance'}, {'id': 35, ...</td>\n",
              "      <td>Grumpier Old Men</td>\n",
              "      <td>A family wedding reignites the ancient feud be...</td>\n",
              "    </tr>\n",
              "  </tbody>\n",
              "</table>\n",
              "</div>"
            ],
            "text/plain": [
              "                                              genres             title                                           overview\n",
              "0  [{'id': 16, 'name': 'Animation'}, {'id': 35, '...         Toy Story  Led by Woody, Andy's toys live happily in his ...\n",
              "1  [{'id': 12, 'name': 'Adventure'}, {'id': 14, '...           Jumanji  When siblings Judy and Peter discover an encha...\n",
              "2  [{'id': 10749, 'name': 'Romance'}, {'id': 35, ...  Grumpier Old Men  A family wedding reignites the ancient feud be..."
            ]
          },
          "metadata": {
            "tags": []
          },
          "execution_count": 8
        }
      ]
    },
    {
      "cell_type": "code",
      "metadata": {
        "id": "8aeef2dc"
      },
      "source": [
        "import ast"
      ],
      "id": "8aeef2dc",
      "execution_count": 9,
      "outputs": []
    },
    {
      "cell_type": "code",
      "metadata": {
        "scrolled": false,
        "id": "4d3fbc22"
      },
      "source": [
        "#Convert string representation of values to dictionaries.\n",
        "for i,row in df_subset.iterrows():\n",
        "    df_subset.at[i,'genres'] = ast.literal_eval(row[0])"
      ],
      "id": "4d3fbc22",
      "execution_count": 10,
      "outputs": []
    },
    {
      "cell_type": "code",
      "metadata": {
        "id": "c675f24f"
      },
      "source": [
        "new_df = pd.DataFrame([],columns=['genre','title','description'])"
      ],
      "id": "c675f24f",
      "execution_count": 11,
      "outputs": []
    },
    {
      "cell_type": "code",
      "metadata": {
        "id": "b991a43e"
      },
      "source": [
        "#Reformat the dataframe to triples of title, overview and genre\n",
        "Idx=df_subset.set_index(['title','overview']).genres.apply(pd.Series).stack().index\n",
        "new_df = pd.DataFrame(df_subset.set_index(['title','overview']).genres.apply(pd.Series).stack().values.tolist(),index=Idx).reset_index().drop('level_2',1)"
      ],
      "id": "b991a43e",
      "execution_count": 12,
      "outputs": []
    },
    {
      "cell_type": "code",
      "metadata": {
        "colab": {
          "base_uri": "https://localhost:8080/",
          "height": 202
        },
        "id": "5a3b14a4",
        "outputId": "28efa842-f8a8-4605-fde1-b6cfc6513bd0"
      },
      "source": [
        "new_df.columns = ['title','overview','id','genre']\n",
        "new_df.head(5)"
      ],
      "id": "5a3b14a4",
      "execution_count": 13,
      "outputs": [
        {
          "output_type": "execute_result",
          "data": {
            "text/html": [
              "<div>\n",
              "<style scoped>\n",
              "    .dataframe tbody tr th:only-of-type {\n",
              "        vertical-align: middle;\n",
              "    }\n",
              "\n",
              "    .dataframe tbody tr th {\n",
              "        vertical-align: top;\n",
              "    }\n",
              "\n",
              "    .dataframe thead th {\n",
              "        text-align: right;\n",
              "    }\n",
              "</style>\n",
              "<table border=\"1\" class=\"dataframe\">\n",
              "  <thead>\n",
              "    <tr style=\"text-align: right;\">\n",
              "      <th></th>\n",
              "      <th>title</th>\n",
              "      <th>overview</th>\n",
              "      <th>id</th>\n",
              "      <th>genre</th>\n",
              "    </tr>\n",
              "  </thead>\n",
              "  <tbody>\n",
              "    <tr>\n",
              "      <th>0</th>\n",
              "      <td>Toy Story</td>\n",
              "      <td>Led by Woody, Andy's toys live happily in his ...</td>\n",
              "      <td>16</td>\n",
              "      <td>Animation</td>\n",
              "    </tr>\n",
              "    <tr>\n",
              "      <th>1</th>\n",
              "      <td>Toy Story</td>\n",
              "      <td>Led by Woody, Andy's toys live happily in his ...</td>\n",
              "      <td>35</td>\n",
              "      <td>Comedy</td>\n",
              "    </tr>\n",
              "    <tr>\n",
              "      <th>2</th>\n",
              "      <td>Toy Story</td>\n",
              "      <td>Led by Woody, Andy's toys live happily in his ...</td>\n",
              "      <td>10751</td>\n",
              "      <td>Family</td>\n",
              "    </tr>\n",
              "    <tr>\n",
              "      <th>3</th>\n",
              "      <td>Jumanji</td>\n",
              "      <td>When siblings Judy and Peter discover an encha...</td>\n",
              "      <td>12</td>\n",
              "      <td>Adventure</td>\n",
              "    </tr>\n",
              "    <tr>\n",
              "      <th>4</th>\n",
              "      <td>Jumanji</td>\n",
              "      <td>When siblings Judy and Peter discover an encha...</td>\n",
              "      <td>14</td>\n",
              "      <td>Fantasy</td>\n",
              "    </tr>\n",
              "  </tbody>\n",
              "</table>\n",
              "</div>"
            ],
            "text/plain": [
              "       title                                           overview     id      genre\n",
              "0  Toy Story  Led by Woody, Andy's toys live happily in his ...     16  Animation\n",
              "1  Toy Story  Led by Woody, Andy's toys live happily in his ...     35     Comedy\n",
              "2  Toy Story  Led by Woody, Andy's toys live happily in his ...  10751     Family\n",
              "3    Jumanji  When siblings Judy and Peter discover an encha...     12  Adventure\n",
              "4    Jumanji  When siblings Judy and Peter discover an encha...     14    Fantasy"
            ]
          },
          "metadata": {
            "tags": []
          },
          "execution_count": 13
        }
      ]
    },
    {
      "cell_type": "markdown",
      "metadata": {
        "id": "27248c37"
      },
      "source": [
        "# Exploratory Data Analysis"
      ],
      "id": "27248c37"
    },
    {
      "cell_type": "code",
      "metadata": {
        "colab": {
          "base_uri": "https://localhost:8080/",
          "height": 533
        },
        "id": "54e5f66d",
        "outputId": "79bb3e3b-ad03-4130-9a1e-c195ae9201a0"
      },
      "source": [
        "#Plot genre counts in the dataframe. \n",
        "new_df['genre'].value_counts().plot(kind='bar')"
      ],
      "id": "54e5f66d",
      "execution_count": 14,
      "outputs": [
        {
          "output_type": "execute_result",
          "data": {
            "text/plain": [
              "<matplotlib.axes._subplots.AxesSubplot at 0x7f0c5e169c50>"
            ]
          },
          "metadata": {
            "tags": []
          },
          "execution_count": 14
        },
        {
          "output_type": "display_data",
          "data": {
            "image/png": "[encoded data removed]",
            "text/plain": [
              "<Figure size 1008x360 with 1 Axes>"
            ]
          },
          "metadata": {
            "tags": [],
            "needs_background": "light"
          }
        }
      ]
    },
    {
      "cell_type": "code",
      "metadata": {
        "colab": {
          "base_uri": "https://localhost:8080/",
          "height": 533
        },
        "id": "ho5_2fC3WNKC",
        "outputId": "c0655313-9f09-4da8-b8cf-d48756dc6dfe"
      },
      "source": [
        "new_df['genre'].value_counts()[-15:].plot(kind='bar')"
      ],
      "id": "ho5_2fC3WNKC",
      "execution_count": 15,
      "outputs": [
        {
          "output_type": "execute_result",
          "data": {
            "text/plain": [
              "<matplotlib.axes._subplots.AxesSubplot at 0x7f0c5dfd7bd0>"
            ]
          },
          "metadata": {
            "tags": []
          },
          "execution_count": 15
        },
        {
          "output_type": "display_data",
          "data": {
            "image/png": "[encoded data removed]",
            "text/plain": [
              "<Figure size 1008x360 with 1 Axes>"
            ]
          },
          "metadata": {
            "tags": [],
            "needs_background": "light"
          }
        }
      ]
    },
    {
      "cell_type": "code",
      "metadata": {
        "colab": {
          "base_uri": "https://localhost:8080/"
        },
        "id": "8XdlQMrbOv3t",
        "outputId": "032ded46-839b-4b4e-a9c6-ac9fe594de5c"
      },
      "source": [
        "print('Maximium number of words in any description: ', new_df.overview.str.split().str.len().max())\n",
        "print('Minimum number of words in any description: ', new_df.overview.str.split().str.len().min())\n",
        "print('Average description length: ', new_df.overview.str.split().str.len().mean())\n",
        "print('Median description length: ', new_df.overview.str.split().str.len().median())\n",
        "print('Stdev description length: ', new_df.overview.str.split().str.len().std())\n",
        "print('Average number of genres per movie', new_df['title'].value_counts().mean())\n",
        "print('Top 10 most represented movies in the dataset\\n', new_df['title'].value_counts()[:10])"
      ],
      "id": "8XdlQMrbOv3t",
      "execution_count": 16,
      "outputs": [
        {
          "output_type": "stream",
          "text": [
            "Maximium number of words in any description:  187.0\n",
            "Minimum number of words in any description:  0.0\n",
            "Average description length:  55.3079315362145\n",
            "Median description length:  49.0\n",
            "Stdev description length:  34.06027787861397\n",
            "Average number of genres per movie 2.275134257524666\n",
            "Top 10 most represented movies in the dataset\n",
            " Cinderella                            31\n",
            "Alice in Wonderland                   26\n",
            "The Hound of the Baskervilles         22\n",
            "The Three Musketeers                  22\n",
            "Beauty and the Beast                  21\n",
            "Les Misérables                        19\n",
            "Sahara                                17\n",
            "Journey to the Center of the Earth    17\n",
            "Chaos                                 16\n",
            "A Christmas Carol                     16\n",
            "Name: title, dtype: int64\n"
          ],
          "name": "stdout"
        }
      ]
    },
    {
      "cell_type": "markdown",
      "metadata": {
        "id": "25bad8b3"
      },
      "source": [
        "# Problem Formulation"
      ],
      "id": "25bad8b3"
    },
    {
      "cell_type": "code",
      "metadata": {
        "id": "a2997903"
      },
      "source": [
        "# The problem is a multi-label classification task. \n",
        "# Each input vector containing description is mapped to 1 or more genres\n",
        "# Therefore, the target vector of each entry is a binary vector representing the presence of genres, that is filled\n",
        "# with 1's if the entry contains the genre and 0 if it does not.\n",
        "\n",
        "# For example: The movie 'Othello' will have one 1 present at first position (Drama) and every other position will \n",
        "# be fileld with zeros."
      ],
      "id": "a2997903",
      "execution_count": 17,
      "outputs": []
    },
    {
      "cell_type": "code",
      "metadata": {
        "id": "015b29d5"
      },
      "source": [
        "# The dataset is heavily imbalanced. Some genre categories [Drama or Comedy] are more present than others.\n",
        "# Drama has 20,000 occurences and Mystery around 2500.\n",
        "\n",
        "#Subset the top 20 genres only, as the remaining 12 are deemed not significantly representable. (They have just 1 occurence)\n",
        "\n",
        "new_df = new_df.loc[new_df['genre'].isin(new_df['genre'].value_counts()[:20].keys())]"
      ],
      "id": "015b29d5",
      "execution_count": 18,
      "outputs": []
    },
    {
      "cell_type": "code",
      "metadata": {
        "scrolled": false,
        "id": "858a5ba8"
      },
      "source": [
        "# Use the group-by function of pandas to create the binary vectors of genre presence.\n",
        "grouped = new_df.groupby(['title','overview','genre']).size().unstack().fillna(0).reset_index()"
      ],
      "id": "858a5ba8",
      "execution_count": 19,
      "outputs": []
    },
    {
      "cell_type": "code",
      "metadata": {
        "colab": {
          "base_uri": "https://localhost:8080/",
          "height": 394
        },
        "id": "40a362e1",
        "outputId": "7f136a8d-2332-431e-82b2-3af2e18165df"
      },
      "source": [
        "grouped.head(3)"
      ],
      "id": "40a362e1",
      "execution_count": 20,
      "outputs": [
        {
          "output_type": "execute_result",
          "data": {
            "text/html": [
              "<div>\n",
              "<style scoped>\n",
              "    .dataframe tbody tr th:only-of-type {\n",
              "        vertical-align: middle;\n",
              "    }\n",
              "\n",
              "    .dataframe tbody tr th {\n",
              "        vertical-align: top;\n",
              "    }\n",
              "\n",
              "    .dataframe thead th {\n",
              "        text-align: right;\n",
              "    }\n",
              "</style>\n",
              "<table border=\"1\" class=\"dataframe\">\n",
              "  <thead>\n",
              "    <tr style=\"text-align: right;\">\n",
              "      <th>genre</th>\n",
              "      <th>title</th>\n",
              "      <th>overview</th>\n",
              "      <th>Action</th>\n",
              "      <th>Adventure</th>\n",
              "      <th>Animation</th>\n",
              "      <th>Comedy</th>\n",
              "      <th>Crime</th>\n",
              "      <th>Documentary</th>\n",
              "      <th>Drama</th>\n",
              "      <th>Family</th>\n",
              "      <th>Fantasy</th>\n",
              "      <th>Foreign</th>\n",
              "      <th>History</th>\n",
              "      <th>Horror</th>\n",
              "      <th>Music</th>\n",
              "      <th>Mystery</th>\n",
              "      <th>Romance</th>\n",
              "      <th>Science Fiction</th>\n",
              "      <th>TV Movie</th>\n",
              "      <th>Thriller</th>\n",
              "      <th>War</th>\n",
              "      <th>Western</th>\n",
              "    </tr>\n",
              "  </thead>\n",
              "  <tbody>\n",
              "    <tr>\n",
              "      <th>0</th>\n",
              "      <td>!Women Art Revolution</td>\n",
              "      <td>Through intimate interviews, provocative art, ...</td>\n",
              "      <td>0.0</td>\n",
              "      <td>0.0</td>\n",
              "      <td>0.0</td>\n",
              "      <td>0.0</td>\n",
              "      <td>0.0</td>\n",
              "      <td>1.0</td>\n",
              "      <td>0.0</td>\n",
              "      <td>0.0</td>\n",
              "      <td>0.0</td>\n",
              "      <td>0.0</td>\n",
              "      <td>0.0</td>\n",
              "      <td>0.0</td>\n",
              "      <td>0.0</td>\n",
              "      <td>0.0</td>\n",
              "      <td>0.0</td>\n",
              "      <td>0.0</td>\n",
              "      <td>0.0</td>\n",
              "      <td>0.0</td>\n",
              "      <td>0.0</td>\n",
              "      <td>0.0</td>\n",
              "    </tr>\n",
              "    <tr>\n",
              "      <th>1</th>\n",
              "      <td>#1 Cheerleader Camp</td>\n",
              "      <td>A pair of horny college guys get summer jobs a...</td>\n",
              "      <td>0.0</td>\n",
              "      <td>0.0</td>\n",
              "      <td>0.0</td>\n",
              "      <td>1.0</td>\n",
              "      <td>0.0</td>\n",
              "      <td>0.0</td>\n",
              "      <td>1.0</td>\n",
              "      <td>0.0</td>\n",
              "      <td>0.0</td>\n",
              "      <td>0.0</td>\n",
              "      <td>0.0</td>\n",
              "      <td>0.0</td>\n",
              "      <td>0.0</td>\n",
              "      <td>0.0</td>\n",
              "      <td>0.0</td>\n",
              "      <td>0.0</td>\n",
              "      <td>0.0</td>\n",
              "      <td>0.0</td>\n",
              "      <td>0.0</td>\n",
              "      <td>0.0</td>\n",
              "    </tr>\n",
              "    <tr>\n",
              "      <th>2</th>\n",
              "      <td>#Horror</td>\n",
              "      <td>Inspired by actual events, a group of 12 year ...</td>\n",
              "      <td>0.0</td>\n",
              "      <td>0.0</td>\n",
              "      <td>0.0</td>\n",
              "      <td>0.0</td>\n",
              "      <td>0.0</td>\n",
              "      <td>0.0</td>\n",
              "      <td>1.0</td>\n",
              "      <td>0.0</td>\n",
              "      <td>0.0</td>\n",
              "      <td>0.0</td>\n",
              "      <td>0.0</td>\n",
              "      <td>1.0</td>\n",
              "      <td>0.0</td>\n",
              "      <td>1.0</td>\n",
              "      <td>0.0</td>\n",
              "      <td>0.0</td>\n",
              "      <td>0.0</td>\n",
              "      <td>1.0</td>\n",
              "      <td>0.0</td>\n",
              "      <td>0.0</td>\n",
              "    </tr>\n",
              "  </tbody>\n",
              "</table>\n",
              "</div>"
            ],
            "text/plain": [
              "genre                  title                                           overview  Action  Adventure  Animation  Comedy  Crime  Documentary  Drama  Family  Fantasy  Foreign  History  Horror  Music  Mystery  Romance  Science Fiction  TV Movie  Thriller  War  Western\n",
              "0      !Women Art Revolution  Through intimate interviews, provocative art, ...     0.0        0.0        0.0     0.0    0.0          1.0    0.0     0.0      0.0      0.0      0.0     0.0    0.0      0.0      0.0              0.0       0.0       0.0  0.0      0.0\n",
              "1        #1 Cheerleader Camp  A pair of horny college guys get summer jobs a...     0.0        0.0        0.0     1.0    0.0          0.0    1.0     0.0      0.0      0.0      0.0     0.0    0.0      0.0      0.0              0.0       0.0       0.0  0.0      0.0\n",
              "2                    #Horror  Inspired by actual events, a group of 12 year ...     0.0        0.0        0.0     0.0    0.0          0.0    1.0     0.0      0.0      0.0      0.0     1.0    0.0      1.0      0.0              0.0       0.0       1.0  0.0      0.0"
            ]
          },
          "metadata": {
            "tags": []
          },
          "execution_count": 20
        }
      ]
    },
    {
      "cell_type": "markdown",
      "metadata": {
        "id": "024c39fc"
      },
      "source": [
        "# Model Selection\n",
        "\n",
        "### This task can be solved using various methods, for example: Decision Trees, OneVRest group of classifiers, Binary Relevance, LSTM's but the chosen approach is a model from the Transformer class. The reason being for this is the proven accuracy of Transformers on NLP tasks and their ease to use with GPU. \n"
      ],
      "id": "024c39fc"
    },
    {
      "cell_type": "code",
      "metadata": {
        "colab": {
          "base_uri": "https://localhost:8080/"
        },
        "id": "pA34P-1pg17S",
        "outputId": "4249da1a-3c24-4c18-dd54-23dadcc0b713"
      },
      "source": [
        "!pip install transformers\n",
        "import tensorflow as tf\n",
        "import torch\n",
        "from torch.nn import BCEWithLogitsLoss, BCELoss\n",
        "from torch.utils.data import TensorDataset, DataLoader, RandomSampler, SequentialSampler\n",
        "from keras.preprocessing.sequence import pad_sequences\n",
        "from sklearn.model_selection import train_test_split\n",
        "from sklearn.preprocessing import MultiLabelBinarizer\n",
        "from sklearn.metrics import classification_report, confusion_matrix, multilabel_confusion_matrix, f1_score, accuracy_score\n",
        "import pickle\n",
        "import transformers\n",
        "from tqdm import tqdm, trange\n",
        "from ast import literal_eval\n",
        "!pip install sentencepiece\n",
        "from transformers import AdamW"
      ],
      "id": "pA34P-1pg17S",
      "execution_count": 21,
      "outputs": [
        {
          "output_type": "stream",
          "text": [
            "Collecting transformers\n",
            "\u001b[?25l  Downloading https://files.pythonhosted.org/packages/d5/43/cfe4ee779bbd6a678ac6a97c5a5cdeb03c35f9eaebbb9720b036680f9a2d/transformers-4.6.1-py3-none-any.whl (2.2MB)\n",
            "\u001b[K     |████████████████████████████████| 2.3MB 34.0MB/s \n",
            "\u001b[?25hCollecting sacremoses\n",
            "\u001b[?25l  Downloading https://files.pythonhosted.org/packages/75/ee/67241dc87f266093c533a2d4d3d69438e57d7a90abb216fa076e7d475d4a/sacremoses-0.0.45-py3-none-any.whl (895kB)\n",
            "\u001b[K     |████████████████████████████████| 901kB 48.0MB/s \n",
            "\u001b[?25hRequirement already satisfied: numpy>=1.17 in /usr/local/lib/python3.7/dist-packages (from transformers) (1.19.5)\n",
            "Requirement already satisfied: importlib-metadata; python_version < \"3.8\" in /usr/local/lib/python3.7/dist-packages (from transformers) (4.5.0)\n",
            "Requirement already satisfied: packaging in /usr/local/lib/python3.7/dist-packages (from transformers) (20.9)\n",
            "Collecting huggingface-hub==0.0.8\n",
            "  Downloading https://files.pythonhosted.org/packages/a1/88/7b1e45720ecf59c6c6737ff332f41c955963090a18e72acbcbeac6b25e86/huggingface_hub-0.0.8-py3-none-any.whl\n",
            "Requirement already satisfied: regex!=2019.12.17 in /usr/local/lib/python3.7/dist-packages (from transformers) (2019.12.20)\n",
            "Collecting tokenizers<0.11,>=0.10.1\n",
            "\u001b[?25l  Downloading https://files.pythonhosted.org/packages/d4/e2/df3543e8ffdab68f5acc73f613de9c2b155ac47f162e725dcac87c521c11/tokenizers-0.10.3-cp37-cp37m-manylinux_2_5_x86_64.manylinux1_x86_64.manylinux_2_12_x86_64.manylinux2010_x86_64.whl (3.3MB)\n",
            "\u001b[K     |████████████████████████████████| 3.3MB 51.3MB/s \n",
            "\u001b[?25hRequirement already satisfied: tqdm>=4.27 in /usr/local/lib/python3.7/dist-packages (from transformers) (4.41.1)\n",
            "Requirement already satisfied: filelock in /usr/local/lib/python3.7/dist-packages (from transformers) (3.0.12)\n",
            "Requirement already satisfied: requests in /usr/local/lib/python3.7/dist-packages (from transformers) (2.23.0)\n",
            "Requirement already satisfied: six in /usr/local/lib/python3.7/dist-packages (from sacremoses->transformers) (1.15.0)\n",
            "Requirement already satisfied: click in /usr/local/lib/python3.7/dist-packages (from sacremoses->transformers) (7.1.2)\n",
            "Requirement already satisfied: joblib in /usr/local/lib/python3.7/dist-packages (from sacremoses->transformers) (1.0.1)\n",
            "Requirement already satisfied: typing-extensions>=3.6.4; python_version < \"3.8\" in /usr/local/lib/python3.7/dist-packages (from importlib-metadata; python_version < \"3.8\"->transformers) (3.7.4.3)\n",
            "Requirement already satisfied: zipp>=0.5 in /usr/local/lib/python3.7/dist-packages (from importlib-metadata; python_version < \"3.8\"->transformers) (3.4.1)\n",
            "Requirement already satisfied: pyparsing>=2.0.2 in /usr/local/lib/python3.7/dist-packages (from packaging->transformers) (2.4.7)\n",
            "Requirement already satisfied: certifi>=2017.4.17 in /usr/local/lib/python3.7/dist-packages (from requests->transformers) (2021.5.30)\n",
            "Requirement already satisfied: chardet<4,>=3.0.2 in /usr/local/lib/python3.7/dist-packages (from requests->transformers) (3.0.4)\n",
            "Requirement already satisfied: idna<3,>=2.5 in /usr/local/lib/python3.7/dist-packages (from requests->transformers) (2.10)\n",
            "Requirement already satisfied: urllib3!=1.25.0,!=1.25.1,<1.26,>=1.21.1 in /usr/local/lib/python3.7/dist-packages (from requests->transformers) (1.24.3)\n",
            "Installing collected packages: sacremoses, huggingface-hub, tokenizers, transformers\n",
            "Successfully installed huggingface-hub-0.0.8 sacremoses-0.0.45 tokenizers-0.10.3 transformers-4.6.1\n",
            "Collecting sentencepiece\n",
            "\u001b[?25l  Downloading https://files.pythonhosted.org/packages/f5/99/e0808cb947ba10f575839c43e8fafc9cc44e4a7a2c8f79c60db48220a577/sentencepiece-0.1.95-cp37-cp37m-manylinux2014_x86_64.whl (1.2MB)\n",
            "\u001b[K     |████████████████████████████████| 1.2MB 29.8MB/s \n",
            "\u001b[?25hInstalling collected packages: sentencepiece\n",
            "Successfully installed sentencepiece-0.1.95\n"
          ],
          "name": "stdout"
        }
      ]
    },
    {
      "cell_type": "code",
      "metadata": {
        "id": "YJGdoE60sqEZ"
      },
      "source": [
        "device = torch.device(\"cuda\" if torch.cuda.is_available() else \"cpu\")"
      ],
      "id": "YJGdoE60sqEZ",
      "execution_count": 22,
      "outputs": []
    },
    {
      "cell_type": "code",
      "metadata": {
        "id": "WdwDf9Xmqrmi"
      },
      "source": [
        "# Split the dataframe into train and test (80-20), keep the Test split for later.\n",
        "# K fold cross validation could be used too but that would take K-times the training time. (Too much now)\n",
        "\n",
        "msk = np.random.rand(len(grouped)) < 0.8\n",
        "train = grouped[msk]\n",
        "test = grouped[~msk]"
      ],
      "id": "WdwDf9Xmqrmi",
      "execution_count": 23,
      "outputs": []
    },
    {
      "cell_type": "code",
      "metadata": {
        "id": "ACbomEkys90D"
      },
      "source": [
        "cols = train.columns # Get names of all columns\n",
        "label_cols = list(cols[2:]) # Get column names\n",
        "num_labels = len(label_cols) # Get number of unique genres types used in classification.\n",
        "train = train.sample(frac=1).reset_index(drop=True)"
      ],
      "id": "ACbomEkys90D",
      "execution_count": 24,
      "outputs": []
    },
    {
      "cell_type": "code",
      "metadata": {
        "id": "FFirC1nUtBFa"
      },
      "source": [
        "train['one_hot_labels'] = list(train[label_cols].values) #Create one hot vectors for all rows"
      ],
      "id": "FFirC1nUtBFa",
      "execution_count": 25,
      "outputs": []
    },
    {
      "cell_type": "code",
      "metadata": {
        "id": "HMgED-yttEow"
      },
      "source": [
        "labels = list(train.one_hot_labels.values) #Get the binary one hot vectors from dataframe.\n",
        "comments = list(train.overview.values) # Get text data from dataframe."
      ],
      "id": "HMgED-yttEow",
      "execution_count": 26,
      "outputs": []
    },
    {
      "cell_type": "markdown",
      "metadata": {
        "id": "wC7IxvyYXki6"
      },
      "source": [
        "## Text Preprocessing"
      ],
      "id": "wC7IxvyYXki6"
    },
    {
      "cell_type": "code",
      "metadata": {
        "colab": {
          "base_uri": "https://localhost:8080/",
          "height": 240,
          "referenced_widgets": [
            "339ad3fd558e48dda564b9d28ea36f86",
            "b5f84e598243477fa2580c1ae3f7c809",
            "cc9cd48b7b5f457d947e498b664058cb",
            "96f60d30ed4d4bb3a131be30851e88e7",
            "133737430fc4434294401c4fa9d9e9da",
            "7e3a620a1d2e47ae8a051f2856829e05",
            "3f8dea8f066c48c9b29d361a8becc094",
            "fdfa0f3509e34829a379abfea9fb6022",
            "03e7d5006ad441cd92877ecfcdcab760",
            "f701383893e1499fb5c254d7c1fefbda",
            "dd085a0c80834a13bf6f17ddb6a5bfb7",
            "4dc6d29a862944f7bce1e729e4a26e25",
            "67bafd2537894d58a9d122f3826a10ad",
            "1917c2edab61401caffa87ef98550476",
            "d437dcbd50dc405f8abdb121d9de4648",
            "3266e52522ba4daf9af7c98af098e60b",
            "9bda49a79b4e4a6abb7b3274836160d2",
            "8500dda4d7bd4c35ace392f90afef566",
            "d141e239e82644888b54fb0b22f287b8",
            "d9eec53b19ce48a195598ed636e44ef5",
            "898887baf71149738e7fa57ceb4deefe",
            "0a304b32ba3d4b53a300959459ff405d",
            "91ae6be6d7b1431a99eb2f100bfd384b",
            "757a8c75c6a84247a1c4518fa5b0b405"
          ]
        },
        "id": "Gb9hCXXUtH4J",
        "outputId": "a6145f4e-a0fd-4662-a518-266271384bf3"
      },
      "source": [
        "### Notice how the standard preprocessing is not performed. (Stop word removal, lemmatisation, special character striping)\n",
        "### This way the Transformer model learns the whole context of all sentences rather than compressed information.\n",
        "\n",
        "from transformers import BertTokenizer\n",
        "max_length = 100\n",
        "tokenizer = BertTokenizer.from_pretrained('bert-base-uncased', do_lower_case=True) # Use the tokenizer from huggingface library.\n",
        "\n",
        "# Encode the descriptions to a 100 long vector and pad with 0 if needed.\n",
        "encodings = tokenizer.batch_encode_plus(comments,max_length=max_length,pad_to_max_length=True)"
      ],
      "id": "Gb9hCXXUtH4J",
      "execution_count": 27,
      "outputs": [
        {
          "output_type": "display_data",
          "data": {
            "application/vnd.jupyter.widget-view+json": {
              "model_id": "339ad3fd558e48dda564b9d28ea36f86",
              "version_minor": 0,
              "version_major": 2
            },
            "text/plain": [
              "HBox(children=(FloatProgress(value=0.0, description='Downloading', max=231508.0, style=ProgressStyle(descripti…"
            ]
          },
          "metadata": {
            "tags": []
          }
        },
        {
          "output_type": "stream",
          "text": [
            "\n"
          ],
          "name": "stdout"
        },
        {
          "output_type": "display_data",
          "data": {
            "application/vnd.jupyter.widget-view+json": {
              "model_id": "03e7d5006ad441cd92877ecfcdcab760",
              "version_minor": 0,
              "version_major": 2
            },
            "text/plain": [
              "HBox(children=(FloatProgress(value=0.0, description='Downloading', max=28.0, style=ProgressStyle(description_w…"
            ]
          },
          "metadata": {
            "tags": []
          }
        },
        {
          "output_type": "stream",
          "text": [
            "\n"
          ],
          "name": "stdout"
        },
        {
          "output_type": "display_data",
          "data": {
            "application/vnd.jupyter.widget-view+json": {
              "model_id": "9bda49a79b4e4a6abb7b3274836160d2",
              "version_minor": 0,
              "version_major": 2
            },
            "text/plain": [
              "HBox(children=(FloatProgress(value=0.0, description='Downloading', max=466062.0, style=ProgressStyle(descripti…"
            ]
          },
          "metadata": {
            "tags": []
          }
        },
        {
          "output_type": "stream",
          "text": [
            "Truncation was not explicitly activated but `max_length` is provided a specific value, please use `truncation=True` to explicitly truncate examples to max length. Defaulting to 'longest_first' truncation strategy. If you encode pairs of sequences (GLUE-style) with the tokenizer you can select this strategy more precisely by providing a specific strategy to `truncation`.\n"
          ],
          "name": "stderr"
        },
        {
          "output_type": "stream",
          "text": [
            "\n"
          ],
          "name": "stdout"
        },
        {
          "output_type": "stream",
          "text": [
            "/usr/local/lib/python3.7/dist-packages/transformers/tokenization_utils_base.py:2110: FutureWarning: The `pad_to_max_length` argument is deprecated and will be removed in a future version, use `padding=True` or `padding='longest'` to pad to the longest sequence in the batch, or use `padding='max_length'` to pad to a max length. In this case, you can give a specific length with `max_length` (e.g. `max_length=45`) or leave max_length to None to pad to the maximal input size of the model (e.g. 512 for Bert).\n",
            "  FutureWarning,\n"
          ],
          "name": "stderr"
        }
      ]
    },
    {
      "cell_type": "code",
      "metadata": {
        "id": "Ich2g8m0tJZa"
      },
      "source": [
        "input_ids = encodings['input_ids'] # Get tokenized and encoded text.\n",
        "token_type_ids = encodings['token_type_ids'] # Get token type ids.\n",
        "attention_masks = encodings['attention_mask'] # Get the attention masks."
      ],
      "id": "Ich2g8m0tJZa",
      "execution_count": 28,
      "outputs": []
    },
    {
      "cell_type": "code",
      "metadata": {
        "id": "4pEeNQGxtK40"
      },
      "source": [
        "label_counts = train.one_hot_labels.astype(str).value_counts()\n",
        "one_freq = label_counts[label_counts==1].keys()\n",
        "one_freq_idxs = sorted(list(train[train.one_hot_labels.astype(str).isin(one_freq)].index), reverse=True)"
      ],
      "id": "4pEeNQGxtK40",
      "execution_count": 29,
      "outputs": []
    },
    {
      "cell_type": "code",
      "metadata": {
        "id": "reg66_rctMRU"
      },
      "source": [
        "# Gathering single instance inputs to force into the training set after stratified split\n",
        "one_freq_input_ids = [input_ids.pop(i) for i in one_freq_idxs]\n",
        "one_freq_token_types = [token_type_ids.pop(i) for i in one_freq_idxs]\n",
        "one_freq_attention_masks = [attention_masks.pop(i) for i in one_freq_idxs]\n",
        "one_freq_labels = [labels.pop(i) for i in one_freq_idxs]"
      ],
      "id": "reg66_rctMRU",
      "execution_count": 30,
      "outputs": []
    },
    {
      "cell_type": "code",
      "metadata": {
        "id": "gc_zdKJ9tOLr"
      },
      "source": [
        "# Create train and validation splits. 75 % Train, 20% Test, 5% Validation.\n",
        "train_inputs, validation_inputs, train_labels, validation_labels, train_token_types, validation_token_types, train_masks, validation_masks = train_test_split(input_ids, labels, token_type_ids,attention_masks,\n",
        "                                                            random_state=2020, test_size=0.05, stratify = labels)\n",
        "\n",
        "# Convert everything to tensors.\n",
        "train_inputs = torch.tensor(train_inputs)\n",
        "train_labels = torch.tensor(train_labels)\n",
        "train_masks = torch.tensor(train_masks)\n",
        "train_token_types = torch.tensor(train_token_types)\n",
        "\n",
        "val_inputs = torch.tensor(validation_inputs)\n",
        "val_labels = torch.tensor(validation_labels)\n",
        "val_masks = torch.tensor(validation_masks)\n",
        "val_token_types = torch.tensor(validation_token_types)"
      ],
      "id": "gc_zdKJ9tOLr",
      "execution_count": 31,
      "outputs": []
    },
    {
      "cell_type": "code",
      "metadata": {
        "id": "j3u1cHIDtQEl"
      },
      "source": [
        "# Create dataloaders\n",
        "train_data = TensorDataset(train_inputs, train_masks, train_labels, train_token_types)\n",
        "train_sampler = RandomSampler(train_data)\n",
        "train_dataloader = DataLoader(train_data, sampler=train_sampler, batch_size=32)\n",
        "\n",
        "val_data = TensorDataset(val_inputs, val_masks, val_labels, val_token_types)\n",
        "val_sampler = SequentialSampler(val_data)\n",
        "val_dataloader = DataLoader(val_data, sampler=val_sampler, batch_size=32)"
      ],
      "id": "j3u1cHIDtQEl",
      "execution_count": 32,
      "outputs": []
    },
    {
      "cell_type": "code",
      "metadata": {
        "id": "nEk45fPmtS2T"
      },
      "source": [
        "# Load models and put them to GPU\n",
        "from transformers import BertForSequenceClassification\n",
        "model = BertForSequenceClassification.from_pretrained(\"bert-base-uncased\", num_labels=20)\n",
        "model.cuda()"
      ],
      "id": "nEk45fPmtS2T",
      "execution_count": null,
      "outputs": []
    },
    {
      "cell_type": "code",
      "metadata": {
        "id": "02SER1altVrb"
      },
      "source": [
        "# Tweak some parameters for the optimiser, add weight decay which should increase accuracy.\n",
        "param_optimizer = list(model.named_parameters())\n",
        "# Exclude the bias, gamma and beta parameters from weight decay.\n",
        "no_decay = ['bias', 'gamma', 'beta']\n",
        "optimizer_grouped_parameters = [\n",
        "    {'params': [p for n, p in param_optimizer if not any(nd in n for nd in no_decay)],\n",
        "     'weight_decay_rate': 0.01},\n",
        "    {'params': [p for n, p in param_optimizer if any(nd in n for nd in no_decay)],\n",
        "     'weight_decay_rate': 0.0}\n",
        "]"
      ],
      "id": "02SER1altVrb",
      "execution_count": 34,
      "outputs": []
    },
    {
      "cell_type": "code",
      "metadata": {
        "id": "TmHh_8TitZUn"
      },
      "source": [
        "# Build the optimiser with tweaked parameters. \n",
        "optimizer = AdamW(optimizer_grouped_parameters,lr=2e-5,correct_bias=True)"
      ],
      "id": "TmHh_8TitZUn",
      "execution_count": 35,
      "outputs": []
    },
    {
      "cell_type": "code",
      "metadata": {
        "colab": {
          "base_uri": "https://localhost:8080/"
        },
        "id": "uya_9WjetbE-",
        "outputId": "f4a4e8bf-3338-49e8-8030-c88b30f81efc"
      },
      "source": [
        "train_loss_set = []\n",
        "\n",
        "# Transformers typically are trained on small numbers of epochs. n<5, which is recommended by the authors.\n",
        "# Training on a Google Colab should take around 40 minutes for 4 epochs.\n",
        "\n",
        "# Due to the highly imbalanced nature of the dataset, we look at F1 score rather than plain\n",
        "# Accuracy. F1 score is a harmonic mean of precision and recall, \n",
        "# and informs how the model performs with false positives and false negatives. \n",
        "# The FP and FN are expressed by Precision and Recall.\n",
        "\n",
        "epochs = 4\n",
        "\n",
        "for e in range(epochs):\n",
        "\n",
        "  print('epoch no',e)\n",
        "  model.train()\n",
        "\n",
        "  tr_loss = 0 #running loss\n",
        "  nb_tr_examples, nb_tr_steps = 0, 0\n",
        "  \n",
        "  # Train the data for one epoch\n",
        "  for step, batch in enumerate(train_dataloader):\n",
        "\n",
        "    if step % 100 == 0:\n",
        "      print('Batch No', step,'Out of ', len(train_dataloader)) \n",
        "\n",
        "    batch = tuple(t.to(device) for t in batch)\n",
        "\n",
        "    # Extract the required variables for loss calculation from the batch.\n",
        "    b_input_ids, b_input_mask, b_labels, b_token_types = batch\n",
        "\n",
        "    # Set the gradients of the optimiser to zero.\n",
        "    optimizer.zero_grad()\n",
        "\n",
        "    # Perform one forward pass through entire transformer.\n",
        "    outputs = model(b_input_ids, token_type_ids=None, attention_mask=b_input_mask)\n",
        "    # Extract logits from the ouputs variable.\n",
        "    logits = outputs[0]\n",
        "    # Initialise loss function. Binary Cross Entropy.\n",
        "    loss_func = BCEWithLogitsLoss() \n",
        "\n",
        "    # Calculate loss, As the difference between Predicted labels and True labels of all binary vectors.\n",
        "    loss = loss_func(logits.view(-1,num_labels),b_labels.type_as(logits).view(-1,num_labels))\n",
        "    train_loss_set.append(loss.item())    \n",
        "\n",
        "    # Perform one backward pass (Backpropagation) and calculate new gradients.\n",
        "    loss.backward()\n",
        "    # Perform one step of the Adam optimiser with newly calculated gradients.\n",
        "    optimizer.step()\n",
        "    tr_loss += loss.item()\n",
        "    nb_tr_examples += b_input_ids.size(0)\n",
        "    nb_tr_steps += 1\n",
        "\n",
        "  print(\"Train loss: {}\".format(tr_loss/nb_tr_steps))\n",
        "\n",
        "  # Perform validation epoch. Set the model to Evaluation mode. \n",
        "  # Which means no gradients are calculated\n",
        "  model.eval()\n",
        "\n",
        "  # Variables to gather full output\n",
        "  logit_preds,true_labels,pred_labels = [],[],[]\n",
        "\n",
        "  # Predict on all batches of validation dataloader.\n",
        "  for i, batch in enumerate(val_dataloader):\n",
        "    batch = tuple(t.to(device) for t in batch)\n",
        "    b_input_ids, b_input_mask, b_labels, b_token_types = batch\n",
        "    # Freeze gradients in the variables.\n",
        "    with torch.no_grad():\n",
        "      outs = model(b_input_ids, token_type_ids=None, attention_mask=b_input_mask)\n",
        "      b_logit_pred = outs[0]\n",
        "      pred_label = torch.sigmoid(b_logit_pred)\n",
        "\n",
        "      b_logit_pred = b_logit_pred.detach().cpu().numpy()\n",
        "      pred_label = pred_label.to('cpu').numpy()\n",
        "      b_labels = b_labels.to('cpu').numpy()\n",
        "\n",
        "    logit_preds.append(b_logit_pred)\n",
        "    true_labels.append(b_labels)\n",
        "    pred_labels.append(pred_label)\n",
        "\n",
        "  pred_labels = [item for sublist in pred_labels for item in sublist]\n",
        "  true_labels = [item for sublist in true_labels for item in sublist]\n",
        "\n",
        "  # Calculate F1 score.\n",
        "  threshold = 0.50\n",
        "  pred_bools = [pl>threshold for pl in pred_labels]\n",
        "  true_bools = [tl==1 for tl in true_labels]\n",
        "  val_f1_accuracy = f1_score(true_bools,pred_bools,average='micro')*100\n",
        "\n",
        "  print('F1 Validation metric: ', val_f1_accuracy)"
      ],
      "id": "uya_9WjetbE-",
      "execution_count": 36,
      "outputs": [
        {
          "output_type": "stream",
          "text": [
            "epoch no 0\n",
            "Batch No 0 Out of  980\n",
            "Batch No 100 Out of  980\n",
            "Batch No 200 Out of  980\n",
            "Batch No 300 Out of  980\n",
            "Batch No 400 Out of  980\n",
            "Batch No 500 Out of  980\n",
            "Batch No 600 Out of  980\n",
            "Batch No 700 Out of  980\n",
            "Batch No 800 Out of  980\n",
            "Batch No 900 Out of  980\n",
            "Train loss: 0.2477543654642543\n",
            "F1 Validation metric:  55.148782687105516\n",
            "epoch no 1\n",
            "Batch No 0 Out of  980\n",
            "Batch No 100 Out of  980\n",
            "Batch No 200 Out of  980\n",
            "Batch No 300 Out of  980\n",
            "Batch No 400 Out of  980\n",
            "Batch No 500 Out of  980\n",
            "Batch No 600 Out of  980\n",
            "Batch No 700 Out of  980\n",
            "Batch No 800 Out of  980\n",
            "Batch No 900 Out of  980\n",
            "Train loss: 0.179156875207412\n",
            "F1 Validation metric:  60.52227342549924\n",
            "epoch no 2\n",
            "Batch No 0 Out of  980\n",
            "Batch No 100 Out of  980\n",
            "Batch No 200 Out of  980\n",
            "Batch No 300 Out of  980\n",
            "Batch No 400 Out of  980\n",
            "Batch No 500 Out of  980\n",
            "Batch No 600 Out of  980\n",
            "Batch No 700 Out of  980\n",
            "Batch No 800 Out of  980\n",
            "Batch No 900 Out of  980\n",
            "Train loss: 0.15292132851876775\n",
            "F1 Validation metric:  62.61040235525025\n",
            "epoch no 3\n",
            "Batch No 0 Out of  980\n",
            "Batch No 100 Out of  980\n",
            "Batch No 200 Out of  980\n",
            "Batch No 300 Out of  980\n",
            "Batch No 400 Out of  980\n",
            "Batch No 500 Out of  980\n",
            "Batch No 600 Out of  980\n",
            "Batch No 700 Out of  980\n",
            "Batch No 800 Out of  980\n",
            "Batch No 900 Out of  980\n",
            "Train loss: 0.13089662277120717\n",
            "F1 Validation metric:  61.974163630341174\n"
          ],
          "name": "stdout"
        }
      ]
    },
    {
      "cell_type": "code",
      "metadata": {
        "colab": {
          "base_uri": "https://localhost:8080/"
        },
        "id": "MNp3g9-uOjUM",
        "outputId": "36f2859b-c761-4d48-8538-925868f92263"
      },
      "source": [
        "#Prepare Test Data\n",
        "\n",
        "test_label_cols = list(test.columns[2:-1])\n",
        "test['one_hot_labels'] = list(test[test_label_cols].values)\n",
        "\n",
        "# Gathering input data\n",
        "test_labels = list(test.one_hot_labels.values)\n",
        "test_comments = list(test.overview.values)\n",
        "\n",
        "# Encode and Extract\n",
        "test_encodings = tokenizer.batch_encode_plus(test_comments,max_length=max_length,pad_to_max_length=True)\n",
        "test_input_ids = test_encodings['input_ids']\n",
        "test_token_type_ids = test_encodings['token_type_ids']\n",
        "test_attention_masks = test_encodings['attention_mask']\n",
        "\n",
        "# Tensorify variables\n",
        "test_inputs = torch.tensor(test_input_ids)\n",
        "test_labels = torch.tensor(test_labels)\n",
        "test_masks = torch.tensor(test_attention_masks)\n",
        "test_token_types = torch.tensor(test_token_type_ids)\n",
        "\n",
        "# Create test dataloader\n",
        "test_data = TensorDataset(test_inputs, test_masks, test_labels, test_token_types)\n",
        "test_sampler = SequentialSampler(test_data)\n",
        "test_dataloader = DataLoader(test_data, sampler=test_sampler, batch_size=32)"
      ],
      "id": "MNp3g9-uOjUM",
      "execution_count": 40,
      "outputs": [
        {
          "output_type": "stream",
          "text": [
            "/usr/local/lib/python3.7/dist-packages/ipykernel_launcher.py:4: SettingWithCopyWarning: \n",
            "A value is trying to be set on a copy of a slice from a DataFrame.\n",
            "Try using .loc[row_indexer,col_indexer] = value instead\n",
            "\n",
            "See the caveats in the documentation: https://pandas.pydata.org/pandas-docs/stable/user_guide/indexing.html#returning-a-view-versus-a-copy\n",
            "  after removing the cwd from sys.path.\n",
            "/usr/local/lib/python3.7/dist-packages/transformers/tokenization_utils_base.py:2110: FutureWarning: The `pad_to_max_length` argument is deprecated and will be removed in a future version, use `padding=True` or `padding='longest'` to pad to the longest sequence in the batch, or use `padding='max_length'` to pad to a max length. In this case, you can give a specific length with `max_length` (e.g. `max_length=45`) or leave max_length to None to pad to the maximal input size of the model (e.g. 512 for Bert).\n",
            "  FutureWarning,\n"
          ],
          "name": "stderr"
        }
      ]
    },
    {
      "cell_type": "code",
      "metadata": {
        "id": "3YY7QAcptf20"
      },
      "source": [
        "# Perform testing of the model on Testing split. \n",
        "\n",
        "model.eval()\n",
        "\n",
        "#track variables\n",
        "logit_preds,true_labels,pred_labels = [],[],[]\n",
        "\n",
        "# Predict\n",
        "for i, batch in enumerate(test_dataloader):\n",
        "  batch = tuple(t.to(device) for t in batch)\n",
        "  # Unpack the inputs from our dataloader\n",
        "  b_input_ids, b_input_mask, b_labels, b_token_types = batch\n",
        "  with torch.no_grad():\n",
        "    # Forward pass\n",
        "    outs = model(b_input_ids, token_type_ids=None, attention_mask=b_input_mask)\n",
        "    b_logit_pred = outs[0]\n",
        "    pred_label = torch.sigmoid(b_logit_pred)\n",
        "\n",
        "    # Take the logits to cpu from GPU.\n",
        "    b_logit_pred = b_logit_pred.detach().cpu().numpy()\n",
        "    pred_label = pred_label.to('cpu').numpy()\n",
        "    b_labels = b_labels.to('cpu').numpy()\n",
        "\n",
        "  logit_preds.append(b_logit_pred)\n",
        "  true_labels.append(b_labels)\n",
        "  pred_labels.append(pred_label)\n",
        "\n",
        "pred_labels = [item for sublist in pred_labels for item in sublist]\n",
        "true_labels = [item for sublist in true_labels for item in sublist]\n",
        "\n",
        "# Converting flattened binary values to boolean values\n",
        "true_bools = [tl==1 for tl in true_labels]"
      ],
      "id": "3YY7QAcptf20",
      "execution_count": 41,
      "outputs": []
    },
    {
      "cell_type": "markdown",
      "metadata": {
        "id": "suF88G-PYUyj"
      },
      "source": [
        "## Reflection on Results"
      ],
      "id": "suF88G-PYUyj"
    },
    {
      "cell_type": "code",
      "metadata": {
        "colab": {
          "base_uri": "https://localhost:8080/",
          "height": 806
        },
        "id": "hqtb4-euthlL",
        "outputId": "73bc3de6-d664-4cd8-ef5a-8fe0662df30e"
      },
      "source": [
        "# Now filter the predictions from the sigmoid function. If a prediction value for a genre is higher than 0.5\n",
        "# Count this instance as predicted Genre.\n",
        "# Eg. if Movie has Output of 0.6 for Drama column. This means Drama is predicted genre for this movie.\n",
        "\n",
        "pred_bools = [pl>0.50 for pl in pred_labels]\n",
        "print('Test F1 Score: ', f1_score(true_bools, pred_bools,average='micro'))\n",
        "clf_report = classification_report(true_bools,pred_bools, target_names=label_cols, output_dict=True)\n",
        "\n",
        "# The test F1 Accuracy of 0.60 is quite remarkable as the Training Dataset had around 31.000 samples and 20 classes with\n",
        "# high degree of imbalance. \n",
        "# For an increased F1 metric either the classess could be rebalanced or the number of classes should be reduced\n",
        "# And K-fold cross validation could be used too. \n",
        "\n",
        "# The model totally fails to perform on classess ['Foreign, TV Movie'], and performs badly on Mystery, History and Fantasy. \n",
        "# The model does not necesarrily perform badly on genres with low representation, as \n",
        "# genres Documentary, Western or Horror scored a high F1 score.\n",
        "\n",
        "frame = pd.DataFrame(clf_report).T\n",
        "frame = frame.iloc[:-4, :]\n",
        "frame = frame.sort_values(by='f1-score',ascending=False)\n",
        "frame = frame.reset_index()\n",
        "frame.columns = ['genre','precision','recall','f1-score','support']\n",
        "a.columns = ['genre','value_counts']\n",
        "df = pd.merge(frame, a , on=['genre'])\n",
        "df"
      ],
      "id": "hqtb4-euthlL",
      "execution_count": 119,
      "outputs": [
        {
          "output_type": "stream",
          "text": [
            "Test F1 Score:  0.6078074627342079\n"
          ],
          "name": "stdout"
        },
        {
          "output_type": "stream",
          "text": [
            "/usr/local/lib/python3.7/dist-packages/sklearn/metrics/_classification.py:1272: UndefinedMetricWarning: Precision and F-score are ill-defined and being set to 0.0 in labels with no predicted samples. Use `zero_division` parameter to control this behavior.\n",
            "  _warn_prf(average, modifier, msg_start, len(result))\n",
            "/usr/local/lib/python3.7/dist-packages/sklearn/metrics/_classification.py:1272: UndefinedMetricWarning: Precision and F-score are ill-defined and being set to 0.0 in samples with no predicted labels. Use `zero_division` parameter to control this behavior.\n",
            "  _warn_prf(average, modifier, msg_start, len(result))\n",
            "/usr/local/lib/python3.7/dist-packages/sklearn/metrics/_classification.py:1272: UndefinedMetricWarning: Recall and F-score are ill-defined and being set to 0.0 in samples with no true labels. Use `zero_division` parameter to control this behavior.\n",
            "  _warn_prf(average, modifier, msg_start, len(result))\n"
          ],
          "name": "stderr"
        },
        {
          "output_type": "execute_result",
          "data": {
            "text/html": [
              "<div>\n",
              "<style scoped>\n",
              "    .dataframe tbody tr th:only-of-type {\n",
              "        vertical-align: middle;\n",
              "    }\n",
              "\n",
              "    .dataframe tbody tr th {\n",
              "        vertical-align: top;\n",
              "    }\n",
              "\n",
              "    .dataframe thead th {\n",
              "        text-align: right;\n",
              "    }\n",
              "</style>\n",
              "<table border=\"1\" class=\"dataframe\">\n",
              "  <thead>\n",
              "    <tr style=\"text-align: right;\">\n",
              "      <th></th>\n",
              "      <th>genre</th>\n",
              "      <th>precision</th>\n",
              "      <th>recall</th>\n",
              "      <th>f1-score</th>\n",
              "      <th>support</th>\n",
              "      <th>value_counts</th>\n",
              "    </tr>\n",
              "  </thead>\n",
              "  <tbody>\n",
              "    <tr>\n",
              "      <th>0</th>\n",
              "      <td>Documentary</td>\n",
              "      <td>0.840878</td>\n",
              "      <td>0.802356</td>\n",
              "      <td>0.821165</td>\n",
              "      <td>764.0</td>\n",
              "      <td>3932</td>\n",
              "    </tr>\n",
              "    <tr>\n",
              "      <th>1</th>\n",
              "      <td>Western</td>\n",
              "      <td>0.890323</td>\n",
              "      <td>0.707692</td>\n",
              "      <td>0.788571</td>\n",
              "      <td>195.0</td>\n",
              "      <td>1042</td>\n",
              "    </tr>\n",
              "    <tr>\n",
              "      <th>2</th>\n",
              "      <td>Drama</td>\n",
              "      <td>0.750000</td>\n",
              "      <td>0.725241</td>\n",
              "      <td>0.737413</td>\n",
              "      <td>3938.0</td>\n",
              "      <td>20265</td>\n",
              "    </tr>\n",
              "    <tr>\n",
              "      <th>3</th>\n",
              "      <td>Horror</td>\n",
              "      <td>0.714602</td>\n",
              "      <td>0.697624</td>\n",
              "      <td>0.706011</td>\n",
              "      <td>926.0</td>\n",
              "      <td>4673</td>\n",
              "    </tr>\n",
              "    <tr>\n",
              "      <th>4</th>\n",
              "      <td>Science Fiction</td>\n",
              "      <td>0.784355</td>\n",
              "      <td>0.601297</td>\n",
              "      <td>0.680734</td>\n",
              "      <td>617.0</td>\n",
              "      <td>3049</td>\n",
              "    </tr>\n",
              "    <tr>\n",
              "      <th>5</th>\n",
              "      <td>Comedy</td>\n",
              "      <td>0.692599</td>\n",
              "      <td>0.647406</td>\n",
              "      <td>0.669240</td>\n",
              "      <td>2544.0</td>\n",
              "      <td>13182</td>\n",
              "    </tr>\n",
              "    <tr>\n",
              "      <th>6</th>\n",
              "      <td>War</td>\n",
              "      <td>0.757764</td>\n",
              "      <td>0.523605</td>\n",
              "      <td>0.619289</td>\n",
              "      <td>233.0</td>\n",
              "      <td>1323</td>\n",
              "    </tr>\n",
              "    <tr>\n",
              "      <th>7</th>\n",
              "      <td>Action</td>\n",
              "      <td>0.693995</td>\n",
              "      <td>0.473601</td>\n",
              "      <td>0.562998</td>\n",
              "      <td>1269.0</td>\n",
              "      <td>6596</td>\n",
              "    </tr>\n",
              "    <tr>\n",
              "      <th>8</th>\n",
              "      <td>Music</td>\n",
              "      <td>0.578275</td>\n",
              "      <td>0.533923</td>\n",
              "      <td>0.555215</td>\n",
              "      <td>339.0</td>\n",
              "      <td>1598</td>\n",
              "    </tr>\n",
              "    <tr>\n",
              "      <th>9</th>\n",
              "      <td>Animation</td>\n",
              "      <td>0.739669</td>\n",
              "      <td>0.443069</td>\n",
              "      <td>0.554180</td>\n",
              "      <td>404.0</td>\n",
              "      <td>1935</td>\n",
              "    </tr>\n",
              "    <tr>\n",
              "      <th>10</th>\n",
              "      <td>Thriller</td>\n",
              "      <td>0.614776</td>\n",
              "      <td>0.462914</td>\n",
              "      <td>0.528145</td>\n",
              "      <td>1510.0</td>\n",
              "      <td>7624</td>\n",
              "    </tr>\n",
              "    <tr>\n",
              "      <th>11</th>\n",
              "      <td>Romance</td>\n",
              "      <td>0.602799</td>\n",
              "      <td>0.427481</td>\n",
              "      <td>0.500223</td>\n",
              "      <td>1310.0</td>\n",
              "      <td>6735</td>\n",
              "    </tr>\n",
              "    <tr>\n",
              "      <th>12</th>\n",
              "      <td>Crime</td>\n",
              "      <td>0.619850</td>\n",
              "      <td>0.385332</td>\n",
              "      <td>0.475233</td>\n",
              "      <td>859.0</td>\n",
              "      <td>4307</td>\n",
              "    </tr>\n",
              "    <tr>\n",
              "      <th>13</th>\n",
              "      <td>Family</td>\n",
              "      <td>0.717557</td>\n",
              "      <td>0.348794</td>\n",
              "      <td>0.469413</td>\n",
              "      <td>539.0</td>\n",
              "      <td>2770</td>\n",
              "    </tr>\n",
              "    <tr>\n",
              "      <th>14</th>\n",
              "      <td>Fantasy</td>\n",
              "      <td>0.553922</td>\n",
              "      <td>0.269690</td>\n",
              "      <td>0.362761</td>\n",
              "      <td>419.0</td>\n",
              "      <td>2313</td>\n",
              "    </tr>\n",
              "    <tr>\n",
              "      <th>15</th>\n",
              "      <td>Adventure</td>\n",
              "      <td>0.617100</td>\n",
              "      <td>0.249249</td>\n",
              "      <td>0.355080</td>\n",
              "      <td>666.0</td>\n",
              "      <td>3496</td>\n",
              "    </tr>\n",
              "    <tr>\n",
              "      <th>16</th>\n",
              "      <td>History</td>\n",
              "      <td>0.569767</td>\n",
              "      <td>0.176259</td>\n",
              "      <td>0.269231</td>\n",
              "      <td>278.0</td>\n",
              "      <td>1398</td>\n",
              "    </tr>\n",
              "    <tr>\n",
              "      <th>17</th>\n",
              "      <td>Mystery</td>\n",
              "      <td>0.549550</td>\n",
              "      <td>0.125514</td>\n",
              "      <td>0.204355</td>\n",
              "      <td>486.0</td>\n",
              "      <td>2467</td>\n",
              "    </tr>\n",
              "    <tr>\n",
              "      <th>18</th>\n",
              "      <td>Foreign</td>\n",
              "      <td>0.000000</td>\n",
              "      <td>0.000000</td>\n",
              "      <td>0.000000</td>\n",
              "      <td>298.0</td>\n",
              "      <td>1622</td>\n",
              "    </tr>\n",
              "    <tr>\n",
              "      <th>19</th>\n",
              "      <td>TV Movie</td>\n",
              "      <td>0.000000</td>\n",
              "      <td>0.000000</td>\n",
              "      <td>0.000000</td>\n",
              "      <td>174.0</td>\n",
              "      <td>767</td>\n",
              "    </tr>\n",
              "  </tbody>\n",
              "</table>\n",
              "</div>"
            ],
            "text/plain": [
              "              genre  precision    recall  f1-score  support  value_counts\n",
              "0       Documentary   0.840878  0.802356  0.821165    764.0          3932\n",
              "1           Western   0.890323  0.707692  0.788571    195.0          1042\n",
              "2             Drama   0.750000  0.725241  0.737413   3938.0         20265\n",
              "3            Horror   0.714602  0.697624  0.706011    926.0          4673\n",
              "4   Science Fiction   0.784355  0.601297  0.680734    617.0          3049\n",
              "5            Comedy   0.692599  0.647406  0.669240   2544.0         13182\n",
              "6               War   0.757764  0.523605  0.619289    233.0          1323\n",
              "7            Action   0.693995  0.473601  0.562998   1269.0          6596\n",
              "8             Music   0.578275  0.533923  0.555215    339.0          1598\n",
              "9         Animation   0.739669  0.443069  0.554180    404.0          1935\n",
              "10         Thriller   0.614776  0.462914  0.528145   1510.0          7624\n",
              "11          Romance   0.602799  0.427481  0.500223   1310.0          6735\n",
              "12            Crime   0.619850  0.385332  0.475233    859.0          4307\n",
              "13           Family   0.717557  0.348794  0.469413    539.0          2770\n",
              "14          Fantasy   0.553922  0.269690  0.362761    419.0          2313\n",
              "15        Adventure   0.617100  0.249249  0.355080    666.0          3496\n",
              "16          History   0.569767  0.176259  0.269231    278.0          1398\n",
              "17          Mystery   0.549550  0.125514  0.204355    486.0          2467\n",
              "18          Foreign   0.000000  0.000000  0.000000    298.0          1622\n",
              "19         TV Movie   0.000000  0.000000  0.000000    174.0           767"
            ]
          },
          "metadata": {
            "tags": []
          },
          "execution_count": 119
        }
      ]
    },
    {
      "cell_type": "code",
      "metadata": {
        "id": "-dTI3eDAz2qz"
      },
      "source": [
        "### Save the model. Should take around 400MB.\n",
        "torch.save(model.state_dict(), 'model-new.pt')"
      ],
      "id": "-dTI3eDAz2qz",
      "execution_count": 43,
      "outputs": []
    },
    {
      "cell_type": "code",
      "metadata": {
        "id": "o93KPo6mZXUY"
      },
      "source": [
        "from transformers import BertForSequenceClassification"
      ],
      "id": "o93KPo6mZXUY",
      "execution_count": 44,
      "outputs": []
    },
    {
      "cell_type": "markdown",
      "metadata": {
        "id": "X87Jmz0u0xxH"
      },
      "source": [
        "## Performing predictions on the Model."
      ],
      "id": "X87Jmz0u0xxH"
    },
    {
      "cell_type": "code",
      "metadata": {
        "colab": {
          "base_uri": "https://localhost:8080/"
        },
        "id": "XQAG6f6_Y_jk",
        "outputId": "5ae97026-4e7f-4c31-db0f-142d666a4c6a"
      },
      "source": [
        "# !pip install googledrivedownloader\n",
        "# from google_drive_downloader import GoogleDriveDownloader as gdd\n",
        "# gdd.download_file_from_google_drive(file_id='1lMjuBZ161egqHAnBtwNDHzv5hkzh4G26', dest_path='./model.pt')"
      ],
      "id": "XQAG6f6_Y_jk",
      "execution_count": 122,
      "outputs": [
        {
          "output_type": "stream",
          "text": [
            "Requirement already satisfied: googledrivedownloader in /usr/local/lib/python3.7/dist-packages (0.4)\n",
            "Downloading 1lMjuBZ161egqHAnBtwNDHzv5hkzh4G26 into ./model.pt... Done.\n"
          ],
          "name": "stdout"
        }
      ]
    },
    {
      "cell_type": "code",
      "metadata": {
        "id": "WRKwppPG0vzS"
      },
      "source": [
        "# Load the model\n",
        "model = BertForSequenceClassification.from_pretrained(\"bert-base-uncased\", num_labels=20)\n",
        "model.load_state_dict(torch.load('model.pt'))\n",
        "model.eval()"
      ],
      "id": "WRKwppPG0vzS",
      "execution_count": null,
      "outputs": []
    },
    {
      "cell_type": "code",
      "metadata": {
        "colab": {
          "base_uri": "https://localhost:8080/",
          "height": 455
        },
        "id": "y6Jo0ZCQAwTT",
        "outputId": "ef82548b-88f0-47ec-c005-c2dd87098d6f"
      },
      "source": [
        "sample = test.sample(n=10) # Sample 10 entries from a test split, which was not used on training the model.\n",
        "sample.head(5)"
      ],
      "id": "y6Jo0ZCQAwTT",
      "execution_count": 130,
      "outputs": [
        {
          "output_type": "execute_result",
          "data": {
            "text/html": [
              "<div>\n",
              "<style scoped>\n",
              "    .dataframe tbody tr th:only-of-type {\n",
              "        vertical-align: middle;\n",
              "    }\n",
              "\n",
              "    .dataframe tbody tr th {\n",
              "        vertical-align: top;\n",
              "    }\n",
              "\n",
              "    .dataframe thead th {\n",
              "        text-align: right;\n",
              "    }\n",
              "</style>\n",
              "<table border=\"1\" class=\"dataframe\">\n",
              "  <thead>\n",
              "    <tr style=\"text-align: right;\">\n",
              "      <th>genre</th>\n",
              "      <th>title</th>\n",
              "      <th>overview</th>\n",
              "      <th>Action</th>\n",
              "      <th>Adventure</th>\n",
              "      <th>Animation</th>\n",
              "      <th>Comedy</th>\n",
              "      <th>Crime</th>\n",
              "      <th>Documentary</th>\n",
              "      <th>Drama</th>\n",
              "      <th>Family</th>\n",
              "      <th>Fantasy</th>\n",
              "      <th>Foreign</th>\n",
              "      <th>History</th>\n",
              "      <th>Horror</th>\n",
              "      <th>Music</th>\n",
              "      <th>Mystery</th>\n",
              "      <th>Romance</th>\n",
              "      <th>Science Fiction</th>\n",
              "      <th>TV Movie</th>\n",
              "      <th>Thriller</th>\n",
              "      <th>War</th>\n",
              "      <th>Western</th>\n",
              "      <th>one_hot_labels</th>\n",
              "    </tr>\n",
              "  </thead>\n",
              "  <tbody>\n",
              "    <tr>\n",
              "      <th>41072</th>\n",
              "      <td>When the Heavens Fell</td>\n",
              "      <td>A psychotherapist's life is wrecked when her p...</td>\n",
              "      <td>0.0</td>\n",
              "      <td>0.0</td>\n",
              "      <td>0.0</td>\n",
              "      <td>0.0</td>\n",
              "      <td>0.0</td>\n",
              "      <td>0.0</td>\n",
              "      <td>1.0</td>\n",
              "      <td>0.0</td>\n",
              "      <td>0.0</td>\n",
              "      <td>0.0</td>\n",
              "      <td>0.0</td>\n",
              "      <td>0.0</td>\n",
              "      <td>0.0</td>\n",
              "      <td>0.0</td>\n",
              "      <td>0.0</td>\n",
              "      <td>0.0</td>\n",
              "      <td>0.0</td>\n",
              "      <td>0.0</td>\n",
              "      <td>0.0</td>\n",
              "      <td>0.0</td>\n",
              "      <td>[0.0, 0.0, 0.0, 0.0, 0.0, 0.0, 1.0, 0.0, 0.0, ...</td>\n",
              "    </tr>\n",
              "    <tr>\n",
              "      <th>6373</th>\n",
              "      <td>Carve Her Name with Pride</td>\n",
              "      <td>Violette Bushell is the daughter of an English...</td>\n",
              "      <td>0.0</td>\n",
              "      <td>0.0</td>\n",
              "      <td>0.0</td>\n",
              "      <td>0.0</td>\n",
              "      <td>0.0</td>\n",
              "      <td>0.0</td>\n",
              "      <td>1.0</td>\n",
              "      <td>0.0</td>\n",
              "      <td>0.0</td>\n",
              "      <td>0.0</td>\n",
              "      <td>0.0</td>\n",
              "      <td>0.0</td>\n",
              "      <td>0.0</td>\n",
              "      <td>0.0</td>\n",
              "      <td>0.0</td>\n",
              "      <td>0.0</td>\n",
              "      <td>0.0</td>\n",
              "      <td>0.0</td>\n",
              "      <td>1.0</td>\n",
              "      <td>0.0</td>\n",
              "      <td>[0.0, 0.0, 0.0, 0.0, 0.0, 0.0, 1.0, 0.0, 0.0, ...</td>\n",
              "    </tr>\n",
              "    <tr>\n",
              "      <th>26036</th>\n",
              "      <td>Ruby in Paradise</td>\n",
              "      <td>Reeling from her mother's recent death, Ruby L...</td>\n",
              "      <td>0.0</td>\n",
              "      <td>0.0</td>\n",
              "      <td>0.0</td>\n",
              "      <td>0.0</td>\n",
              "      <td>0.0</td>\n",
              "      <td>0.0</td>\n",
              "      <td>1.0</td>\n",
              "      <td>0.0</td>\n",
              "      <td>0.0</td>\n",
              "      <td>0.0</td>\n",
              "      <td>0.0</td>\n",
              "      <td>0.0</td>\n",
              "      <td>0.0</td>\n",
              "      <td>0.0</td>\n",
              "      <td>1.0</td>\n",
              "      <td>0.0</td>\n",
              "      <td>0.0</td>\n",
              "      <td>0.0</td>\n",
              "      <td>0.0</td>\n",
              "      <td>0.0</td>\n",
              "      <td>[0.0, 0.0, 0.0, 0.0, 0.0, 0.0, 1.0, 0.0, 0.0, ...</td>\n",
              "    </tr>\n",
              "    <tr>\n",
              "      <th>12724</th>\n",
              "      <td>Ghost in the Shell Arise - Border 3: Ghost Tears</td>\n",
              "      <td>Posing as lovers on vacation, Motoko and Batou...</td>\n",
              "      <td>1.0</td>\n",
              "      <td>0.0</td>\n",
              "      <td>1.0</td>\n",
              "      <td>0.0</td>\n",
              "      <td>0.0</td>\n",
              "      <td>0.0</td>\n",
              "      <td>0.0</td>\n",
              "      <td>0.0</td>\n",
              "      <td>0.0</td>\n",
              "      <td>0.0</td>\n",
              "      <td>0.0</td>\n",
              "      <td>0.0</td>\n",
              "      <td>0.0</td>\n",
              "      <td>0.0</td>\n",
              "      <td>0.0</td>\n",
              "      <td>1.0</td>\n",
              "      <td>0.0</td>\n",
              "      <td>0.0</td>\n",
              "      <td>0.0</td>\n",
              "      <td>0.0</td>\n",
              "      <td>[1.0, 0.0, 1.0, 0.0, 0.0, 0.0, 0.0, 0.0, 0.0, ...</td>\n",
              "    </tr>\n",
              "    <tr>\n",
              "      <th>26659</th>\n",
              "      <td>Scooby-Doo! WrestleMania Mystery</td>\n",
              "      <td>The mystery begins when Shaggy and Scooby win ...</td>\n",
              "      <td>0.0</td>\n",
              "      <td>0.0</td>\n",
              "      <td>1.0</td>\n",
              "      <td>1.0</td>\n",
              "      <td>0.0</td>\n",
              "      <td>0.0</td>\n",
              "      <td>0.0</td>\n",
              "      <td>1.0</td>\n",
              "      <td>0.0</td>\n",
              "      <td>0.0</td>\n",
              "      <td>0.0</td>\n",
              "      <td>0.0</td>\n",
              "      <td>0.0</td>\n",
              "      <td>1.0</td>\n",
              "      <td>0.0</td>\n",
              "      <td>0.0</td>\n",
              "      <td>0.0</td>\n",
              "      <td>0.0</td>\n",
              "      <td>0.0</td>\n",
              "      <td>0.0</td>\n",
              "      <td>[0.0, 0.0, 1.0, 1.0, 0.0, 0.0, 0.0, 1.0, 0.0, ...</td>\n",
              "    </tr>\n",
              "  </tbody>\n",
              "</table>\n",
              "</div>"
            ],
            "text/plain": [
              "genre                                             title                                           overview  Action  Adventure  Animation  Comedy  Crime  Documentary  Drama  Family  Fantasy  Foreign  History  Horror  Music  Mystery  Romance  Science Fiction  TV Movie  Thriller  War  Western                                     one_hot_labels\n",
              "41072                             When the Heavens Fell  A psychotherapist's life is wrecked when her p...     0.0        0.0        0.0     0.0    0.0          0.0    1.0     0.0      0.0      0.0      0.0     0.0    0.0      0.0      0.0              0.0       0.0       0.0  0.0      0.0  [0.0, 0.0, 0.0, 0.0, 0.0, 0.0, 1.0, 0.0, 0.0, ...\n",
              "6373                          Carve Her Name with Pride  Violette Bushell is the daughter of an English...     0.0        0.0        0.0     0.0    0.0          0.0    1.0     0.0      0.0      0.0      0.0     0.0    0.0      0.0      0.0              0.0       0.0       0.0  1.0      0.0  [0.0, 0.0, 0.0, 0.0, 0.0, 0.0, 1.0, 0.0, 0.0, ...\n",
              "26036                                  Ruby in Paradise  Reeling from her mother's recent death, Ruby L...     0.0        0.0        0.0     0.0    0.0          0.0    1.0     0.0      0.0      0.0      0.0     0.0    0.0      0.0      1.0              0.0       0.0       0.0  0.0      0.0  [0.0, 0.0, 0.0, 0.0, 0.0, 0.0, 1.0, 0.0, 0.0, ...\n",
              "12724  Ghost in the Shell Arise - Border 3: Ghost Tears  Posing as lovers on vacation, Motoko and Batou...     1.0        0.0        1.0     0.0    0.0          0.0    0.0     0.0      0.0      0.0      0.0     0.0    0.0      0.0      0.0              1.0       0.0       0.0  0.0      0.0  [1.0, 0.0, 1.0, 0.0, 0.0, 0.0, 0.0, 0.0, 0.0, ...\n",
              "26659                  Scooby-Doo! WrestleMania Mystery  The mystery begins when Shaggy and Scooby win ...     0.0        0.0        1.0     1.0    0.0          0.0    0.0     1.0      0.0      0.0      0.0     0.0    0.0      1.0      0.0              0.0       0.0       0.0  0.0      0.0  [0.0, 0.0, 1.0, 1.0, 0.0, 0.0, 0.0, 1.0, 0.0, ..."
            ]
          },
          "metadata": {
            "tags": []
          },
          "execution_count": 130
        }
      ]
    },
    {
      "cell_type": "code",
      "metadata": {
        "id": "uYufsespCHi7"
      },
      "source": [
        "model = model.to(device)"
      ],
      "id": "uYufsespCHi7",
      "execution_count": 131,
      "outputs": []
    },
    {
      "cell_type": "code",
      "metadata": {
        "colab": {
          "base_uri": "https://localhost:8080/"
        },
        "id": "jneYgkmU08jB",
        "outputId": "a932a636-cca3-48f0-ac6d-d18edf57cb4f"
      },
      "source": [
        "for i, (title, desc) in enumerate(zip(sample['title'], sample['overview'])):\n",
        "  encoded = tokenizer.encode_plus(desc,max_length=100, pad_to_max_length = True)\n",
        "  # Extract encoded input.\n",
        "  seed_ids = encoded['input_ids']\n",
        "  seed_token_type_ids = encoded['token_type_ids']\n",
        "  seed_masks = encoded['attention_mask']\n",
        "  inp = torch.tensor(seed_ids)\n",
        "  msk = torch.tensor(seed_masks)\n",
        "  tok = torch.tensor(seed_token_type_ids)\n",
        "  inp = inp.unsqueeze(0) #Reshape the tensor into [1,100]\n",
        "  msk = msk.unsqueeze(0) #Reshape the tensor into [1,100]\n",
        "  inp = inp.to(device)\n",
        "  msk = msk.to(device)\n",
        "  ot = model(inp, token_type_ids=None, attention_mask=msk)\n",
        "  # Extract logits from output.\n",
        "  b_logit_pred = ot[0]\n",
        "  # Put the logits through sigmoid and get predictions for each genre.\n",
        "  pred_label = torch.sigmoid(b_logit_pred)\n",
        "  pred_bools = [pl>0.50 for pl in pred_label]\n",
        "  ar = pred_bools[0].cpu().detach().numpy()\n",
        "\n",
        "  # Match the predicted labels with actual labels to get genre names.\n",
        "  t = np.where(ar)[0]\n",
        "  label_cols = np.array(label_cols)\n",
        "  t = np.array(t)\n",
        "\n",
        "  # Extract true genre names for a movie.\n",
        "  true = (np.where(sample['one_hot_labels'].iloc[i])[0])\n",
        "\n",
        "  print('\\n')\n",
        "  print(i)\n",
        "  print('Title:',title)\n",
        "  print('Description:',desc)\n",
        "  print('Predicted Genres', label_cols[t])\n",
        "  print('Actual Genres', label_cols[true])\n",
        "  #print({\"title\": title, \"description\": desc,\"genre\":label_cols[t]})"
      ],
      "id": "jneYgkmU08jB",
      "execution_count": 132,
      "outputs": [
        {
          "output_type": "stream",
          "text": [
            "/usr/local/lib/python3.7/dist-packages/transformers/tokenization_utils_base.py:2110: FutureWarning: The `pad_to_max_length` argument is deprecated and will be removed in a future version, use `padding=True` or `padding='longest'` to pad to the longest sequence in the batch, or use `padding='max_length'` to pad to a max length. In this case, you can give a specific length with `max_length` (e.g. `max_length=45`) or leave max_length to None to pad to the maximal input size of the model (e.g. 512 for Bert).\n",
            "  FutureWarning,\n"
          ],
          "name": "stderr"
        },
        {
          "output_type": "stream",
          "text": [
            "\n",
            "\n",
            "0\n",
            "Title: When the Heavens Fell\n",
            "Description: A psychotherapist's life is wrecked when her private life is exposed in a sensation magazine.\n",
            "Predicted Genres ['Drama']\n",
            "Actual Genres ['Drama']\n",
            "\n",
            "\n",
            "1\n",
            "Title: Carve Her Name with Pride\n",
            "Description: Violette Bushell is the daughter of an English father and a French mother, living in London in the early years of World War 2. She meets a handsome young French soldier in the park and takes him back for the family Bastille day celebrations. They fall in love, marry and have a baby girl when Violette Szabo receives the dreaded telegram informing her of his death in North Africa. Shortly afterwards, Violette is approached to join the SOE (Special Operations Executive). Should she stay and look after her baby or \"do her duty\" ?\n",
            "Predicted Genres ['Drama' 'War']\n",
            "Actual Genres ['Drama' 'War']\n",
            "\n",
            "\n",
            "2\n",
            "Title: Ruby in Paradise\n",
            "Description: Reeling from her mother's recent death, Ruby Lee Gissing relocates to Florida to start anew. After finding a job at a souvenir store, Ruby becomes friends with the shop's owner, Mildred Chambers, and slowly acclimates to her new surroundings. Before long, she's juggling the affections of Mildred's Lothario son, Ricky, and the good-natured Mike. As she wavers between Ricky and Mike, Ruby also tries to come to terms with her past.\n",
            "Predicted Genres ['Comedy' 'Drama' 'Romance']\n",
            "Actual Genres ['Drama' 'Romance']\n",
            "\n",
            "\n",
            "3\n",
            "Title: Ghost in the Shell Arise - Border 3: Ghost Tears\n",
            "Description: Posing as lovers on vacation, Motoko and Batou work to try to stop a terrorist organization whose symbol is the Scrasath. Meanwhile, Togusa investigates a murder of a man who possessed a prosthetic leg manufactured by the Mermaid's Leg corporation.\n",
            "Predicted Genres ['Action' 'Animation' 'Science Fiction']\n",
            "Actual Genres ['Action' 'Animation' 'Science Fiction']\n",
            "\n",
            "\n",
            "4\n",
            "Title: Scooby-Doo! WrestleMania Mystery\n",
            "Description: The mystery begins when Shaggy and Scooby win tickets to \"WrestleMania\" and convince the crew to go with them to WWE City. But this city harbors a spooky secret - a ghastly Ghost Bear holds the town in his terrifying grip! To protect the coveted WWE Championship Title, the gang gets help from WWE Superstars like John Cena, Triple H, Sin Cara, Brodus Clay, AJ Lee, The Miz and Kane. Watch Scooby and the gang grapple with solving this case before it's too late.\n",
            "Predicted Genres ['Animation' 'Family']\n",
            "Actual Genres ['Animation' 'Comedy' 'Family' 'Mystery']\n",
            "\n",
            "\n",
            "5\n",
            "Title: The Congressman\n",
            "Description: Maine Congressman Charlie Winship has had a bad day. After being caught on video failing to stand and recite the pledge of allegiance, he knocks out another House member, confronts his angry ex-wife, and faces denunciation by the media for attacking one of the most cherished patriotic symbols in America. As his life spirals out of control, Charlie embarks on a journey to a remote island in the Atlantic whose eccentric inhabitants are in the middle of a shooting war over their fishing grounds. Treat Williams stars as The Congressman in this humorous and moving film that raises the important question of what it means to be an American.\n",
            "Predicted Genres ['Comedy' 'Drama']\n",
            "Actual Genres ['Drama']\n",
            "\n",
            "\n",
            "6\n",
            "Title: Breaking at the Edge\n",
            "Description: A pregnant woman fears for her unborn child's life if she doesn't avenge a supernatural entity.\n",
            "Predicted Genres ['Horror']\n",
            "Actual Genres ['Horror' 'Thriller']\n",
            "\n",
            "\n",
            "7\n",
            "Title: Trading Places\n",
            "Description: A snobbish investor and a wily street con-artist find their positions reversed as part of a bet by two callous millionaires.\n",
            "Predicted Genres ['Comedy']\n",
            "Actual Genres ['Comedy']\n",
            "\n",
            "\n",
            "8\n",
            "Title: The Furies\n",
            "Description: A New Mexico cattle man and his strong-willed daughter clash over the man's choice for a new bride. Things get worse when the elder man has his daughter's lover hanged. With the help of an old flame, a gambler, the daughter puts into motion a plan to drive her father from his estate.\n",
            "Predicted Genres ['Western']\n",
            "Actual Genres ['Drama' 'Romance' 'Western']\n",
            "\n",
            "\n",
            "9\n",
            "Title: Garfield's Pet Force\n",
            "Description: Nothing in the world can make Garfield get involved in anything besides eating, until the muscular super cat Garzooka comes crashing into Cartoon World from the Comic Book universe with terrifying news. Garfield summons up the willpower to join his superhero Garzooka in a fight to save their worlds.\n",
            "Predicted Genres ['Animation' 'Family']\n",
            "Actual Genres ['Animation' 'Comedy' 'Family']\n"
          ],
          "name": "stdout"
        }
      ]
    },
    {
      "cell_type": "code",
      "metadata": {
        "id": "lNQ9OVBHWA7C"
      },
      "source": [],
      "id": "lNQ9OVBHWA7C",
      "execution_count": null,
      "outputs": []
    }
  ]
}